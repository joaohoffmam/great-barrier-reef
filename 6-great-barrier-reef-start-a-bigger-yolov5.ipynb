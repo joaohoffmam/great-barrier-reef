{
 "cells": [
  {
   "cell_type": "markdown",
   "id": "8ed4887d",
   "metadata": {
    "papermill": {
     "duration": 0.011764,
     "end_time": "2022-02-16T01:21:04.583098",
     "exception": false,
     "start_time": "2022-02-16T01:21:04.571334",
     "status": "completed"
    },
    "tags": []
   },
   "source": [
    "# Cloning and installing YOLOv5"
   ]
  },
  {
   "cell_type": "code",
   "execution_count": 1,
   "id": "4dcdb205",
   "metadata": {
    "execution": {
     "iopub.execute_input": "2022-02-16T01:21:04.615643Z",
     "iopub.status.busy": "2022-02-16T01:21:04.609314Z",
     "iopub.status.idle": "2022-02-16T01:21:07.274169Z",
     "shell.execute_reply": "2022-02-16T01:21:07.274622Z",
     "shell.execute_reply.started": "2022-02-16T01:02:20.633851Z"
    },
    "papermill": {
     "duration": 2.679722,
     "end_time": "2022-02-16T01:21:07.274885",
     "exception": false,
     "start_time": "2022-02-16T01:21:04.595163",
     "status": "completed"
    },
    "tags": []
   },
   "outputs": [
    {
     "name": "stdout",
     "output_type": "stream",
     "text": [
      "Cloning into 'yolov5'...\r\n",
      "remote: Enumerating objects: 10876, done.\u001b[K\r\n",
      "remote: Total 10876 (delta 0), reused 0 (delta 0), pack-reused 10876\u001b[K\r\n",
      "Receiving objects: 100% (10876/10876), 11.02 MiB | 18.47 MiB/s, done.\r\n",
      "Resolving deltas: 100% (7506/7506), done.\r\n"
     ]
    }
   ],
   "source": [
    "!git clone https://github.com/ultralytics/yolov5"
   ]
  },
  {
   "cell_type": "code",
   "execution_count": 2,
   "id": "0836501a",
   "metadata": {
    "execution": {
     "iopub.execute_input": "2022-02-16T01:21:07.317971Z",
     "iopub.status.busy": "2022-02-16T01:21:07.313650Z",
     "iopub.status.idle": "2022-02-16T01:21:16.582552Z",
     "shell.execute_reply": "2022-02-16T01:21:16.581711Z",
     "shell.execute_reply.started": "2022-02-16T01:02:28.815072Z"
    },
    "papermill": {
     "duration": 9.290851,
     "end_time": "2022-02-16T01:21:16.582688",
     "exception": false,
     "start_time": "2022-02-16T01:21:07.291837",
     "status": "completed"
    },
    "tags": []
   },
   "outputs": [
    {
     "name": "stdout",
     "output_type": "stream",
     "text": [
      "Requirement already satisfied: matplotlib>=3.2.2 in /opt/conda/lib/python3.7/site-packages (from -r yolov5/requirements.txt (line 4)) (3.5.1)\r\n",
      "Requirement already satisfied: numpy>=1.18.5 in /opt/conda/lib/python3.7/site-packages (from -r yolov5/requirements.txt (line 5)) (1.20.3)\r\n",
      "Requirement already satisfied: opencv-python>=4.1.2 in /opt/conda/lib/python3.7/site-packages (from -r yolov5/requirements.txt (line 6)) (4.5.4.60)\r\n",
      "Requirement already satisfied: Pillow>=7.1.2 in /opt/conda/lib/python3.7/site-packages (from -r yolov5/requirements.txt (line 7)) (8.2.0)\r\n",
      "Requirement already satisfied: PyYAML>=5.3.1 in /opt/conda/lib/python3.7/site-packages (from -r yolov5/requirements.txt (line 8)) (6.0)\r\n",
      "Requirement already satisfied: requests>=2.23.0 in /opt/conda/lib/python3.7/site-packages (from -r yolov5/requirements.txt (line 9)) (2.26.0)\r\n",
      "Requirement already satisfied: scipy>=1.4.1 in /opt/conda/lib/python3.7/site-packages (from -r yolov5/requirements.txt (line 10)) (1.7.3)\r\n",
      "Requirement already satisfied: torch>=1.7.0 in /opt/conda/lib/python3.7/site-packages (from -r yolov5/requirements.txt (line 11)) (1.9.1)\r\n",
      "Requirement already satisfied: torchvision>=0.8.1 in /opt/conda/lib/python3.7/site-packages (from -r yolov5/requirements.txt (line 12)) (0.10.1)\r\n",
      "Requirement already satisfied: tqdm>=4.41.0 in /opt/conda/lib/python3.7/site-packages (from -r yolov5/requirements.txt (line 13)) (4.62.3)\r\n",
      "Requirement already satisfied: tensorboard>=2.4.1 in /opt/conda/lib/python3.7/site-packages (from -r yolov5/requirements.txt (line 16)) (2.6.0)\r\n",
      "Requirement already satisfied: pandas>=1.1.4 in /opt/conda/lib/python3.7/site-packages (from -r yolov5/requirements.txt (line 20)) (1.3.5)\r\n",
      "Requirement already satisfied: seaborn>=0.11.0 in /opt/conda/lib/python3.7/site-packages (from -r yolov5/requirements.txt (line 21)) (0.11.2)\r\n",
      "Collecting thop\r\n",
      "  Downloading thop-0.0.31.post2005241907-py3-none-any.whl (8.7 kB)\r\n",
      "Requirement already satisfied: pyparsing>=2.2.1 in /opt/conda/lib/python3.7/site-packages (from matplotlib>=3.2.2->-r yolov5/requirements.txt (line 4)) (3.0.6)\r\n",
      "Requirement already satisfied: python-dateutil>=2.7 in /opt/conda/lib/python3.7/site-packages (from matplotlib>=3.2.2->-r yolov5/requirements.txt (line 4)) (2.8.2)\r\n",
      "Requirement already satisfied: cycler>=0.10 in /opt/conda/lib/python3.7/site-packages (from matplotlib>=3.2.2->-r yolov5/requirements.txt (line 4)) (0.11.0)\r\n",
      "Requirement already satisfied: packaging>=20.0 in /opt/conda/lib/python3.7/site-packages (from matplotlib>=3.2.2->-r yolov5/requirements.txt (line 4)) (21.3)\r\n",
      "Requirement already satisfied: kiwisolver>=1.0.1 in /opt/conda/lib/python3.7/site-packages (from matplotlib>=3.2.2->-r yolov5/requirements.txt (line 4)) (1.3.2)\r\n",
      "Requirement already satisfied: fonttools>=4.22.0 in /opt/conda/lib/python3.7/site-packages (from matplotlib>=3.2.2->-r yolov5/requirements.txt (line 4)) (4.28.4)\r\n",
      "Requirement already satisfied: certifi>=2017.4.17 in /opt/conda/lib/python3.7/site-packages (from requests>=2.23.0->-r yolov5/requirements.txt (line 9)) (2021.10.8)\r\n",
      "Requirement already satisfied: idna<4,>=2.5 in /opt/conda/lib/python3.7/site-packages (from requests>=2.23.0->-r yolov5/requirements.txt (line 9)) (3.1)\r\n",
      "Requirement already satisfied: urllib3<1.27,>=1.21.1 in /opt/conda/lib/python3.7/site-packages (from requests>=2.23.0->-r yolov5/requirements.txt (line 9)) (1.26.7)\r\n",
      "Requirement already satisfied: charset-normalizer~=2.0.0 in /opt/conda/lib/python3.7/site-packages (from requests>=2.23.0->-r yolov5/requirements.txt (line 9)) (2.0.9)\r\n",
      "Requirement already satisfied: typing-extensions in /opt/conda/lib/python3.7/site-packages (from torch>=1.7.0->-r yolov5/requirements.txt (line 11)) (4.0.1)\r\n",
      "Requirement already satisfied: protobuf>=3.6.0 in /opt/conda/lib/python3.7/site-packages (from tensorboard>=2.4.1->-r yolov5/requirements.txt (line 16)) (3.19.1)\r\n",
      "Requirement already satisfied: markdown>=2.6.8 in /opt/conda/lib/python3.7/site-packages (from tensorboard>=2.4.1->-r yolov5/requirements.txt (line 16)) (3.3.6)\r\n",
      "Requirement already satisfied: google-auth<2,>=1.6.3 in /opt/conda/lib/python3.7/site-packages (from tensorboard>=2.4.1->-r yolov5/requirements.txt (line 16)) (1.35.0)\r\n",
      "Requirement already satisfied: wheel>=0.26 in /opt/conda/lib/python3.7/site-packages (from tensorboard>=2.4.1->-r yolov5/requirements.txt (line 16)) (0.37.0)\r\n",
      "Requirement already satisfied: tensorboard-plugin-wit>=1.6.0 in /opt/conda/lib/python3.7/site-packages (from tensorboard>=2.4.1->-r yolov5/requirements.txt (line 16)) (1.8.0)\r\n",
      "Requirement already satisfied: setuptools>=41.0.0 in /opt/conda/lib/python3.7/site-packages (from tensorboard>=2.4.1->-r yolov5/requirements.txt (line 16)) (59.5.0)\r\n",
      "Requirement already satisfied: grpcio>=1.24.3 in /opt/conda/lib/python3.7/site-packages (from tensorboard>=2.4.1->-r yolov5/requirements.txt (line 16)) (1.43.0)\r\n",
      "Requirement already satisfied: werkzeug>=0.11.15 in /opt/conda/lib/python3.7/site-packages (from tensorboard>=2.4.1->-r yolov5/requirements.txt (line 16)) (2.0.2)\r\n",
      "Requirement already satisfied: absl-py>=0.4 in /opt/conda/lib/python3.7/site-packages (from tensorboard>=2.4.1->-r yolov5/requirements.txt (line 16)) (0.15.0)\r\n",
      "Requirement already satisfied: google-auth-oauthlib<0.5,>=0.4.1 in /opt/conda/lib/python3.7/site-packages (from tensorboard>=2.4.1->-r yolov5/requirements.txt (line 16)) (0.4.6)\r\n",
      "Requirement already satisfied: tensorboard-data-server<0.7.0,>=0.6.0 in /opt/conda/lib/python3.7/site-packages (from tensorboard>=2.4.1->-r yolov5/requirements.txt (line 16)) (0.6.1)\r\n",
      "Requirement already satisfied: pytz>=2017.3 in /opt/conda/lib/python3.7/site-packages (from pandas>=1.1.4->-r yolov5/requirements.txt (line 20)) (2021.3)\r\n",
      "Requirement already satisfied: six in /opt/conda/lib/python3.7/site-packages (from absl-py>=0.4->tensorboard>=2.4.1->-r yolov5/requirements.txt (line 16)) (1.16.0)\r\n",
      "Requirement already satisfied: cachetools<5.0,>=2.0.0 in /opt/conda/lib/python3.7/site-packages (from google-auth<2,>=1.6.3->tensorboard>=2.4.1->-r yolov5/requirements.txt (line 16)) (4.2.4)\r\n",
      "Requirement already satisfied: pyasn1-modules>=0.2.1 in /opt/conda/lib/python3.7/site-packages (from google-auth<2,>=1.6.3->tensorboard>=2.4.1->-r yolov5/requirements.txt (line 16)) (0.2.7)\r\n",
      "Requirement already satisfied: rsa<5,>=3.1.4 in /opt/conda/lib/python3.7/site-packages (from google-auth<2,>=1.6.3->tensorboard>=2.4.1->-r yolov5/requirements.txt (line 16)) (4.8)\r\n",
      "Requirement already satisfied: requests-oauthlib>=0.7.0 in /opt/conda/lib/python3.7/site-packages (from google-auth-oauthlib<0.5,>=0.4.1->tensorboard>=2.4.1->-r yolov5/requirements.txt (line 16)) (1.3.0)\r\n",
      "Requirement already satisfied: importlib-metadata>=4.4 in /opt/conda/lib/python3.7/site-packages (from markdown>=2.6.8->tensorboard>=2.4.1->-r yolov5/requirements.txt (line 16)) (4.10.1)\r\n",
      "Requirement already satisfied: zipp>=0.5 in /opt/conda/lib/python3.7/site-packages (from importlib-metadata>=4.4->markdown>=2.6.8->tensorboard>=2.4.1->-r yolov5/requirements.txt (line 16)) (3.6.0)\r\n",
      "Requirement already satisfied: pyasn1<0.5.0,>=0.4.6 in /opt/conda/lib/python3.7/site-packages (from pyasn1-modules>=0.2.1->google-auth<2,>=1.6.3->tensorboard>=2.4.1->-r yolov5/requirements.txt (line 16)) (0.4.8)\r\n",
      "Requirement already satisfied: oauthlib>=3.0.0 in /opt/conda/lib/python3.7/site-packages (from requests-oauthlib>=0.7.0->google-auth-oauthlib<0.5,>=0.4.1->tensorboard>=2.4.1->-r yolov5/requirements.txt (line 16)) (3.1.1)\r\n",
      "Installing collected packages: thop\r\n",
      "Successfully installed thop-0.0.31.post2005241907\r\n",
      "\u001b[33mWARNING: Running pip as the 'root' user can result in broken permissions and conflicting behaviour with the system package manager. It is recommended to use a virtual environment instead: https://pip.pypa.io/warnings/venv\u001b[0m\r\n"
     ]
    }
   ],
   "source": [
    "!pip install -r yolov5/requirements.txt"
   ]
  },
  {
   "cell_type": "markdown",
   "id": "13842009",
   "metadata": {
    "papermill": {
     "duration": 0.01906,
     "end_time": "2022-02-16T01:21:16.621811",
     "exception": false,
     "start_time": "2022-02-16T01:21:16.602751",
     "status": "completed"
    },
    "tags": []
   },
   "source": [
    "# Copying font to output folder"
   ]
  },
  {
   "cell_type": "code",
   "execution_count": 3,
   "id": "1716df75",
   "metadata": {
    "execution": {
     "iopub.execute_input": "2022-02-16T01:21:16.666797Z",
     "iopub.status.busy": "2022-02-16T01:21:16.666092Z",
     "iopub.status.idle": "2022-02-16T01:21:17.429422Z",
     "shell.execute_reply": "2022-02-16T01:21:17.428590Z",
     "shell.execute_reply.started": "2022-02-16T01:02:43.798640Z"
    },
    "papermill": {
     "duration": 0.78833,
     "end_time": "2022-02-16T01:21:17.429607",
     "exception": false,
     "start_time": "2022-02-16T01:21:16.641277",
     "status": "completed"
    },
    "tags": []
   },
   "outputs": [],
   "source": [
    "!cp ../input/yolov5-font/Arial.ttf ./Arial.ttf"
   ]
  },
  {
   "cell_type": "markdown",
   "id": "6f85b8c9",
   "metadata": {
    "papermill": {
     "duration": 0.031004,
     "end_time": "2022-02-16T01:21:17.492685",
     "exception": false,
     "start_time": "2022-02-16T01:21:17.461681",
     "status": "completed"
    },
    "tags": []
   },
   "source": [
    "# Write YAML file with directories"
   ]
  },
  {
   "cell_type": "code",
   "execution_count": 4,
   "id": "59447be0",
   "metadata": {
    "execution": {
     "iopub.execute_input": "2022-02-16T01:21:17.564940Z",
     "iopub.status.busy": "2022-02-16T01:21:17.564067Z",
     "iopub.status.idle": "2022-02-16T01:21:17.567671Z",
     "shell.execute_reply": "2022-02-16T01:21:17.568230Z",
     "shell.execute_reply.started": "2022-02-16T01:02:48.336011Z"
    },
    "papermill": {
     "duration": 0.0441,
     "end_time": "2022-02-16T01:21:17.568410",
     "exception": false,
     "start_time": "2022-02-16T01:21:17.524310",
     "status": "completed"
    },
    "tags": []
   },
   "outputs": [
    {
     "name": "stdout",
     "output_type": "stream",
     "text": [
      "Writing ./yolov5/data/GBR.yaml\n"
     ]
    }
   ],
   "source": [
    "%%writefile ./yolov5/data/GBR.yaml\n",
    "\n",
    "path: /kaggle/working/datasets\n",
    "train: train\n",
    "val: validation\n",
    "test:\n",
    "\n",
    "nc: 1\n",
    "names: [ 'starfish' ]"
   ]
  },
  {
   "cell_type": "markdown",
   "id": "ca256c37",
   "metadata": {
    "papermill": {
     "duration": 0.020399,
     "end_time": "2022-02-16T01:21:17.609248",
     "exception": false,
     "start_time": "2022-02-16T01:21:17.588849",
     "status": "completed"
    },
    "tags": []
   },
   "source": [
    "# Copy images to working directory"
   ]
  },
  {
   "cell_type": "code",
   "execution_count": 5,
   "id": "c233a1ce",
   "metadata": {
    "execution": {
     "iopub.execute_input": "2022-02-16T01:21:17.656393Z",
     "iopub.status.busy": "2022-02-16T01:21:17.655868Z",
     "iopub.status.idle": "2022-02-16T01:25:52.136725Z",
     "shell.execute_reply": "2022-02-16T01:25:52.137294Z",
     "shell.execute_reply.started": "2022-02-16T01:02:54.137706Z"
    },
    "papermill": {
     "duration": 274.507246,
     "end_time": "2022-02-16T01:25:52.137494",
     "exception": false,
     "start_time": "2022-02-16T01:21:17.630248",
     "status": "completed"
    },
    "tags": []
   },
   "outputs": [],
   "source": [
    "import shutil\n",
    "import os\n",
    "\n",
    "os.mkdir('./datasets')\n",
    "os.mkdir('./datasets/train')\n",
    "os.mkdir('./datasets/validation')\n",
    "\n",
    "src_path = '../input/tensorflow-great-barrier-reef/train_images'\n",
    "src_list = ['video_0', 'video_1', 'video_2']\n",
    "dest_list = ['./datasets/train', './datasets/validation', './datasets/train']\n",
    "\n",
    "for i in range(0, 3):\n",
    "    file_list = os.listdir(os.path.join(src_path, src_list[i]))\n",
    "    \n",
    "    for filename in file_list:\n",
    "        prefix = src_list[i][-1:]\n",
    "        shutil.copy2(os.path.join(src_path, src_list[i], filename), \n",
    "                     os.path.join(dest_list[i], prefix + '-' + filename))"
   ]
  },
  {
   "cell_type": "markdown",
   "id": "8a394cbc",
   "metadata": {
    "papermill": {
     "duration": 1.460087,
     "end_time": "2022-02-16T01:25:53.640531",
     "exception": false,
     "start_time": "2022-02-16T01:25:52.180444",
     "status": "completed"
    },
    "tags": []
   },
   "source": [
    "# Prepare labels"
   ]
  },
  {
   "cell_type": "code",
   "execution_count": 6,
   "id": "8e86b9d8",
   "metadata": {
    "execution": {
     "iopub.execute_input": "2022-02-16T01:25:53.935971Z",
     "iopub.status.busy": "2022-02-16T01:25:53.935383Z",
     "iopub.status.idle": "2022-02-16T01:25:59.523938Z",
     "shell.execute_reply": "2022-02-16T01:25:59.524507Z",
     "shell.execute_reply.started": "2022-02-16T01:08:27.382449Z"
    },
    "papermill": {
     "duration": 5.621189,
     "end_time": "2022-02-16T01:25:59.524701",
     "exception": false,
     "start_time": "2022-02-16T01:25:53.903512",
     "status": "completed"
    },
    "tags": []
   },
   "outputs": [],
   "source": [
    "import pandas as pd\n",
    "import ast\n",
    "\n",
    "df = pd.read_csv('../input/tensorflow-great-barrier-reef/train.csv')\n",
    "df = df[df['annotations'] != '[]']\n",
    "\n",
    "# Label train data\n",
    "for index, row in df[df['video_id'] != 1].iterrows():\n",
    "    label_list = []\n",
    "    \n",
    "    for d in ast.literal_eval(row['annotations']):\n",
    "        label_list.append([0, (d.get('x') + (d.get('width') / 2)) / 1280, \n",
    "                           (d.get('y') + (d.get('height') / 2)) / 720, \n",
    "                           d.get('width') / 1280, d.get('height') / 720])\n",
    "    \n",
    "    label_df = pd.DataFrame(label_list)\n",
    "    label_df.to_csv('./datasets/train/' + str(row['image_id']) + '.txt', header = False, index = False, sep = ' ')\n",
    "    \n",
    "# Label validation data\n",
    "for index, row in df[df['video_id'] == 1].iterrows():\n",
    "    label_list = []\n",
    "    \n",
    "    for d in ast.literal_eval(row['annotations']):\n",
    "        label_list.append([0, (d.get('x') + (d.get('width') / 2)) / 1280, \n",
    "                           (d.get('y') + (d.get('height') / 2)) / 720, \n",
    "                           d.get('width') / 1280, d.get('height') / 720])\n",
    "    \n",
    "    label_df = pd.DataFrame(label_list)\n",
    "    label_df.to_csv('./datasets/validation/' + str(row['image_id']) + '.txt', header = False, index = False, \n",
    "                    sep = ' ')"
   ]
  },
  {
   "cell_type": "markdown",
   "id": "694db132",
   "metadata": {
    "papermill": {
     "duration": 0.019533,
     "end_time": "2022-02-16T01:25:59.564338",
     "exception": false,
     "start_time": "2022-02-16T01:25:59.544805",
     "status": "completed"
    },
    "tags": []
   },
   "source": [
    "# Train model"
   ]
  },
  {
   "cell_type": "code",
   "execution_count": 7,
   "id": "fbe8596f",
   "metadata": {
    "execution": {
     "iopub.execute_input": "2022-02-16T01:25:59.608803Z",
     "iopub.status.busy": "2022-02-16T01:25:59.608097Z",
     "iopub.status.idle": "2022-02-16T02:10:33.546730Z",
     "shell.execute_reply": "2022-02-16T02:10:33.547152Z",
     "shell.execute_reply.started": "2022-02-16T01:08:45.855304Z"
    },
    "papermill": {
     "duration": 2673.962964,
     "end_time": "2022-02-16T02:10:33.547364",
     "exception": false,
     "start_time": "2022-02-16T01:25:59.584400",
     "status": "completed"
    },
    "tags": []
   },
   "outputs": [
    {
     "name": "stdout",
     "output_type": "stream",
     "text": [
      "\u001b[34m\u001b[1mwandb\u001b[0m: (1) Create a W&B account\r\n",
      "\u001b[34m\u001b[1mwandb\u001b[0m: (2) Use an existing W&B account\r\n",
      "\u001b[34m\u001b[1mwandb\u001b[0m: (3) Don't visualize my results\r\n",
      "\u001b[34m\u001b[1mwandb\u001b[0m: Enter your choice: (30 second timeout) \r\n",
      "\u001b[34m\u001b[1mwandb\u001b[0m: W&B disabled due to login timeout.\r\n",
      "\u001b[34m\u001b[1mtrain: \u001b[0mweights=yolov5s6.pt, cfg=, data=GBR.yaml, hyp=yolov5/data/hyps/hyp.scratch.yaml, epochs=1, batch_size=16, imgsz=1280, rect=False, resume=False, nosave=False, noval=False, noautoanchor=False, evolve=None, bucket=, cache=None, image_weights=False, device=, multi_scale=False, single_cls=False, optimizer=SGD, sync_bn=False, workers=8, project=yolov5/runs/train, name=exp, exist_ok=False, quad=False, linear_lr=False, label_smoothing=0.0, patience=100, freeze=[0], save_period=-1, local_rank=-1, entity=None, upload_dataset=False, bbox_interval=-1, artifact_alias=latest\r\n",
      "\u001b[34m\u001b[1mgithub: \u001b[0mup to date with https://github.com/ultralytics/yolov5 ✅\r\n",
      "YOLOv5 🚀 v6.0-255-gca0a007 torch 1.9.1 CUDA:0 (Tesla P100-PCIE-16GB, 16281MiB)\r\n",
      "\r\n",
      "\u001b[34m\u001b[1mhyperparameters: \u001b[0mlr0=0.01, lrf=0.1, momentum=0.937, weight_decay=0.0005, warmup_epochs=3.0, warmup_momentum=0.8, warmup_bias_lr=0.1, box=0.05, cls=0.5, cls_pw=1.0, obj=1.0, obj_pw=1.0, iou_t=0.2, anchor_t=4.0, fl_gamma=0.0, hsv_h=0.015, hsv_s=0.7, hsv_v=0.4, degrees=0.0, translate=0.1, scale=0.5, shear=0.0, perspective=0.0, flipud=0.0, fliplr=0.5, mosaic=1.0, mixup=0.0, copy_paste=0.0\r\n",
      "\u001b[34m\u001b[1mWeights & Biases: \u001b[0mrun 'pip install wandb' to automatically track and visualize YOLOv5 🚀 runs (RECOMMENDED)\r\n",
      "\u001b[34m\u001b[1mTensorBoard: \u001b[0mStart with 'tensorboard --logdir yolov5/runs/train', view at http://localhost:6006/\r\n",
      "Downloading https://github.com/ultralytics/yolov5/releases/download/v6.0/yolov5s6.pt to yolov5s6.pt...\r\n",
      "100%|██████████████████████████████████████| 24.5M/24.5M [00:00<00:00, 37.3MB/s]\r\n",
      "\r\n",
      "Overriding model.yaml nc=80 with nc=1\r\n",
      "\r\n",
      "                 from  n    params  module                                  arguments                     \r\n",
      "  0                -1  1      3520  models.common.Conv                      [3, 32, 6, 2, 2]              \r\n",
      "  1                -1  1     18560  models.common.Conv                      [32, 64, 3, 2]                \r\n",
      "  2                -1  1     18816  models.common.C3                        [64, 64, 1]                   \r\n",
      "  3                -1  1     73984  models.common.Conv                      [64, 128, 3, 2]               \r\n",
      "  4                -1  2    115712  models.common.C3                        [128, 128, 2]                 \r\n",
      "  5                -1  1    295424  models.common.Conv                      [128, 256, 3, 2]              \r\n",
      "  6                -1  3    625152  models.common.C3                        [256, 256, 3]                 \r\n",
      "  7                -1  1    885504  models.common.Conv                      [256, 384, 3, 2]              \r\n",
      "  8                -1  1    665856  models.common.C3                        [384, 384, 1]                 \r\n",
      "  9                -1  1   1770496  models.common.Conv                      [384, 512, 3, 2]              \r\n",
      " 10                -1  1   1182720  models.common.C3                        [512, 512, 1]                 \r\n",
      " 11                -1  1    656896  models.common.SPPF                      [512, 512, 5]                 \r\n",
      " 12                -1  1    197376  models.common.Conv                      [512, 384, 1, 1]              \r\n",
      " 13                -1  1         0  torch.nn.modules.upsampling.Upsample    [None, 2, 'nearest']          \r\n",
      " 14           [-1, 8]  1         0  models.common.Concat                    [1]                           \r\n",
      " 15                -1  1    813312  models.common.C3                        [768, 384, 1, False]          \r\n",
      " 16                -1  1     98816  models.common.Conv                      [384, 256, 1, 1]              \r\n",
      " 17                -1  1         0  torch.nn.modules.upsampling.Upsample    [None, 2, 'nearest']          \r\n",
      " 18           [-1, 6]  1         0  models.common.Concat                    [1]                           \r\n",
      " 19                -1  1    361984  models.common.C3                        [512, 256, 1, False]          \r\n",
      " 20                -1  1     33024  models.common.Conv                      [256, 128, 1, 1]              \r\n",
      " 21                -1  1         0  torch.nn.modules.upsampling.Upsample    [None, 2, 'nearest']          \r\n",
      " 22           [-1, 4]  1         0  models.common.Concat                    [1]                           \r\n",
      " 23                -1  1     90880  models.common.C3                        [256, 128, 1, False]          \r\n",
      " 24                -1  1    147712  models.common.Conv                      [128, 128, 3, 2]              \r\n",
      " 25          [-1, 20]  1         0  models.common.Concat                    [1]                           \r\n",
      " 26                -1  1    296448  models.common.C3                        [256, 256, 1, False]          \r\n",
      " 27                -1  1    590336  models.common.Conv                      [256, 256, 3, 2]              \r\n",
      " 28          [-1, 16]  1         0  models.common.Concat                    [1]                           \r\n",
      " 29                -1  1    715008  models.common.C3                        [512, 384, 1, False]          \r\n",
      " 30                -1  1   1327872  models.common.Conv                      [384, 384, 3, 2]              \r\n",
      " 31          [-1, 12]  1         0  models.common.Concat                    [1]                           \r\n",
      " 32                -1  1   1313792  models.common.C3                        [768, 512, 1, False]          \r\n",
      " 33  [23, 26, 29, 32]  1     23112  models.yolo.Detect                      [1, [[19, 27, 44, 40, 38, 94], [96, 68, 86, 152, 180, 137], [140, 301, 303, 264, 238, 542], [436, 615, 739, 380, 925, 792]], [128, 256, 384, 512]]\r\n",
      "Model Summary: 355 layers, 12322312 parameters, 12322312 gradients, 16.2 GFLOPs\r\n",
      "\r\n",
      "Transferred 451/459 items from yolov5s6.pt\r\n",
      "Scaled weight_decay = 0.0005\r\n",
      "\u001b[34m\u001b[1moptimizer:\u001b[0m SGD with parameter groups 75 weight (no decay), 79 weight, 79 bias\r\n",
      "\u001b[34m\u001b[1malbumentations: \u001b[0mBlur(always_apply=False, p=0.01, blur_limit=(3, 7)), MedianBlur(always_apply=False, p=0.01, blur_limit=(3, 7)), ToGray(always_apply=False, p=0.01), CLAHE(always_apply=False, p=0.01, clip_limit=(1, 4.0), tile_grid_size=(8, 8))\r\n",
      "\u001b[34m\u001b[1mtrain: \u001b[0mScanning '/kaggle/working/datasets/train' images and labels...2820 found,\u001b[0m\r\n",
      "\u001b[34m\u001b[1mtrain: \u001b[0mWARNING: /kaggle/working/datasets/train/0-9470.jpg: ignoring corrupt image/label: non-normalized or out of bounds coordinates [     1.0021]\r\n",
      "\u001b[34m\u001b[1mtrain: \u001b[0mNew cache created: /kaggle/working/datasets/train.cache\r\n",
      "\u001b[34m\u001b[1mval: \u001b[0mScanning '/kaggle/working/datasets/validation' images and labels...2099 fou\u001b[0m\r\n",
      "\u001b[34m\u001b[1mval: \u001b[0mNew cache created: /kaggle/working/datasets/validation.cache\r\n",
      "Plotting labels to yolov5/runs/train/exp/labels.jpg... \r\n",
      "\r\n",
      "\u001b[34m\u001b[1mAutoAnchor: \u001b[0m4.88 anchors/target, 1.000 Best Possible Recall (BPR). Current anchors are a good fit to dataset ✅\r\n",
      "Image sizes 1280 train, 1280 val\r\n",
      "Using 2 dataloader workers\r\n",
      "Logging results to \u001b[1myolov5/runs/train/exp\u001b[0m\r\n",
      "Starting training for 1 epochs...\r\n",
      "\r\n",
      "     Epoch   gpu_mem       box       obj       cls    labels  img_size\r\n",
      "       0/0     13.3G    0.0435   0.01013         0         2      1280: 100%|███\r\n",
      "               Class     Images     Labels          P          R     mAP@.5 mAP@\r\n",
      "                 all       8232       6384   0.000114    0.00689   5.79e-05   2.31e-05\r\n",
      "\r\n",
      "1 epochs completed in 0.639 hours.\r\n",
      "Optimizer stripped from yolov5/runs/train/exp/weights/last.pt, 25.4MB\r\n",
      "Optimizer stripped from yolov5/runs/train/exp/weights/best.pt, 25.4MB\r\n",
      "\r\n",
      "Validating yolov5/runs/train/exp/weights/best.pt...\r\n",
      "Fusing layers... \r\n",
      "Model Summary: 280 layers, 12308200 parameters, 0 gradients, 16.2 GFLOPs\r\n",
      "               Class     Images     Labels          P          R     mAP@.5 mAP@\r\n",
      "                 all       8232       6384   0.000115    0.00689    5.8e-05    2.3e-05\r\n",
      "Results saved to \u001b[1myolov5/runs/train/exp\u001b[0m\r\n",
      "Exception ignored in: <function _MultiProcessingDataLoaderIter.__del__ at 0x7fc8966ff050>\r\n",
      "Traceback (most recent call last):\r\n",
      "  File \"/opt/conda/lib/python3.7/site-packages/torch/utils/data/dataloader.py\", line 1328, in __del__\r\n",
      "  File \"/opt/conda/lib/python3.7/site-packages/torch/utils/data/dataloader.py\", line 1262, in _shutdown_workers\r\n",
      "AttributeError: 'NoneType' object has no attribute 'python_exit_status'\r\n",
      "Exception ignored in: <function _MultiProcessingDataLoaderIter.__del__ at 0x7fc8966ff050>\r\n",
      "Traceback (most recent call last):\r\n",
      "  File \"/opt/conda/lib/python3.7/site-packages/torch/utils/data/dataloader.py\", line 1328, in __del__\r\n",
      "  File \"/opt/conda/lib/python3.7/site-packages/torch/utils/data/dataloader.py\", line 1262, in _shutdown_workers\r\n",
      "AttributeError: 'NoneType' object has no attribute 'python_exit_status'\r\n"
     ]
    }
   ],
   "source": [
    "!python ./yolov5/train.py --img 1280 --batch 16 --epochs 1 --data GBR.yaml --weights yolov5s6.pt"
   ]
  }
 ],
 "metadata": {
  "kernelspec": {
   "display_name": "Python 3",
   "language": "python",
   "name": "python3"
  },
  "language_info": {
   "codemirror_mode": {
    "name": "ipython",
    "version": 3
   },
   "file_extension": ".py",
   "mimetype": "text/x-python",
   "name": "python",
   "nbconvert_exporter": "python",
   "pygments_lexer": "ipython3",
   "version": "3.7.12"
  },
  "papermill": {
   "default_parameters": {},
   "duration": 2978.670779,
   "end_time": "2022-02-16T02:10:34.701553",
   "environment_variables": {},
   "exception": null,
   "input_path": "__notebook__.ipynb",
   "output_path": "__notebook__.ipynb",
   "parameters": {},
   "start_time": "2022-02-16T01:20:56.030774",
   "version": "2.3.3"
  }
 },
 "nbformat": 4,
 "nbformat_minor": 5
}
