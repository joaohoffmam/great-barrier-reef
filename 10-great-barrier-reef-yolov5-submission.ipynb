{
 "cells": [
  {
   "cell_type": "code",
   "execution_count": 1,
   "id": "4a07d5d6",
   "metadata": {
    "_cell_guid": "b1076dfc-b9ad-4769-8c92-a6c4dae69d19",
    "_uuid": "8f2839f25d086af736a60e9eeb907d3b93b6e0e5",
    "execution": {
     "iopub.execute_input": "2022-02-23T17:12:58.787168Z",
     "iopub.status.busy": "2022-02-23T17:12:58.785685Z",
     "iopub.status.idle": "2022-02-23T17:13:00.202238Z",
     "shell.execute_reply": "2022-02-23T17:13:00.201612Z",
     "shell.execute_reply.started": "2022-02-23T17:11:33.882990Z"
    },
    "papermill": {
     "duration": 1.432494,
     "end_time": "2022-02-23T17:13:00.202429",
     "exception": false,
     "start_time": "2022-02-23T17:12:58.769935",
     "status": "completed"
    },
    "tags": []
   },
   "outputs": [],
   "source": [
    "import sys\n",
    "import torch"
   ]
  },
  {
   "cell_type": "code",
   "execution_count": 2,
   "id": "7a9b62c2",
   "metadata": {
    "execution": {
     "iopub.execute_input": "2022-02-23T17:13:00.221663Z",
     "iopub.status.busy": "2022-02-23T17:13:00.220835Z",
     "iopub.status.idle": "2022-02-23T17:13:00.223675Z",
     "shell.execute_reply": "2022-02-23T17:13:00.224133Z",
     "shell.execute_reply.started": "2022-02-23T17:11:37.140563Z"
    },
    "papermill": {
     "duration": 0.013995,
     "end_time": "2022-02-23T17:13:00.224286",
     "exception": false,
     "start_time": "2022-02-23T17:13:00.210291",
     "status": "completed"
    },
    "tags": []
   },
   "outputs": [],
   "source": [
    "sys.path.append('../input/tensorflow-great-barrier-reef')"
   ]
  },
  {
   "cell_type": "code",
   "execution_count": 3,
   "id": "f8d5369b",
   "metadata": {
    "execution": {
     "iopub.execute_input": "2022-02-23T17:13:00.241138Z",
     "iopub.status.busy": "2022-02-23T17:13:00.240513Z",
     "iopub.status.idle": "2022-02-23T17:13:00.261962Z",
     "shell.execute_reply": "2022-02-23T17:13:00.262414Z",
     "shell.execute_reply.started": "2022-02-23T17:11:39.191105Z"
    },
    "papermill": {
     "duration": 0.0315,
     "end_time": "2022-02-23T17:13:00.262548",
     "exception": false,
     "start_time": "2022-02-23T17:13:00.231048",
     "status": "completed"
    },
    "tags": []
   },
   "outputs": [],
   "source": [
    "import greatbarrierreef"
   ]
  },
  {
   "cell_type": "code",
   "execution_count": 4,
   "id": "6833afa2",
   "metadata": {
    "execution": {
     "iopub.execute_input": "2022-02-23T17:13:00.282627Z",
     "iopub.status.busy": "2022-02-23T17:13:00.281683Z",
     "iopub.status.idle": "2022-02-23T17:13:02.496813Z",
     "shell.execute_reply": "2022-02-23T17:13:02.495644Z",
     "shell.execute_reply.started": "2022-02-23T17:11:42.103369Z"
    },
    "papermill": {
     "duration": 2.227083,
     "end_time": "2022-02-23T17:13:02.496950",
     "exception": false,
     "start_time": "2022-02-23T17:13:00.269867",
     "status": "completed"
    },
    "tags": []
   },
   "outputs": [],
   "source": [
    "!cp ../input/7-great-barrier-reef-train-the-bigger-yolov5/Arial.ttf ./Arial.ttf\n",
    "!cp ../input/7-great-barrier-reef-train-the-bigger-yolov5/yolov5/runs/train/exp5/weights/best.pt ./best.pt"
   ]
  },
  {
   "cell_type": "code",
   "execution_count": 5,
   "id": "22bdce2f",
   "metadata": {
    "execution": {
     "iopub.execute_input": "2022-02-23T17:13:02.515902Z",
     "iopub.status.busy": "2022-02-23T17:13:02.515309Z",
     "iopub.status.idle": "2022-02-23T17:13:08.203502Z",
     "shell.execute_reply": "2022-02-23T17:13:08.203026Z",
     "shell.execute_reply.started": "2022-02-23T17:11:47.173194Z"
    },
    "papermill": {
     "duration": 5.699457,
     "end_time": "2022-02-23T17:13:08.203633",
     "exception": false,
     "start_time": "2022-02-23T17:13:02.504176",
     "status": "completed"
    },
    "tags": []
   },
   "outputs": [
    {
     "name": "stderr",
     "output_type": "stream",
     "text": [
      "YOLOv5 🚀 v6.0-255-gca0a007 torch 1.9.1 CUDA:0 (Tesla P100-PCIE-16GB, 16281MiB)\n",
      "\n",
      "Fusing layers... \n",
      "Model Summary: 280 layers, 12308200 parameters, 0 gradients\n",
      "Adding AutoShape... \n"
     ]
    }
   ],
   "source": [
    "# Loading the YOLOv5 model\n",
    "model_path = '../input/7-great-barrier-reef-train-the-bigger-yolov5/yolov5'\n",
    "weights_path = './best.pt'\n",
    "\n",
    "model = torch.hub.load(model_path, 'custom', path = weights_path, source = 'local')"
   ]
  },
  {
   "cell_type": "code",
   "execution_count": 6,
   "id": "8675df0e",
   "metadata": {
    "execution": {
     "iopub.execute_input": "2022-02-23T17:13:08.225947Z",
     "iopub.status.busy": "2022-02-23T17:13:08.225246Z",
     "iopub.status.idle": "2022-02-23T17:13:08.227830Z",
     "shell.execute_reply": "2022-02-23T17:13:08.227437Z",
     "shell.execute_reply.started": "2022-02-23T17:11:59.028055Z"
    },
    "papermill": {
     "duration": 0.015613,
     "end_time": "2022-02-23T17:13:08.227940",
     "exception": false,
     "start_time": "2022-02-23T17:13:08.212327",
     "status": "completed"
    },
    "tags": []
   },
   "outputs": [],
   "source": [
    "env = greatbarrierreef.make_env()\n",
    "iter_test = env.iter_test()"
   ]
  },
  {
   "cell_type": "code",
   "execution_count": 7,
   "id": "09c02357",
   "metadata": {
    "execution": {
     "iopub.execute_input": "2022-02-23T17:13:08.250052Z",
     "iopub.status.busy": "2022-02-23T17:13:08.249511Z",
     "iopub.status.idle": "2022-02-23T17:13:13.366888Z",
     "shell.execute_reply": "2022-02-23T17:13:13.366421Z",
     "shell.execute_reply.started": "2022-02-23T17:12:04.242164Z"
    },
    "papermill": {
     "duration": 5.131047,
     "end_time": "2022-02-23T17:13:13.367053",
     "exception": false,
     "start_time": "2022-02-23T17:13:08.236006",
     "status": "completed"
    },
    "tags": []
   },
   "outputs": [
    {
     "name": "stdout",
     "output_type": "stream",
     "text": [
      "This version of the API is not optimized and should not be used to estimate the runtime of your code on the hidden test set.\n"
     ]
    }
   ],
   "source": [
    "for (pixel_array, sample_prediction_df) in iter_test:\n",
    "    results = model(pixel_array)\n",
    "    annotation = ''\n",
    "    \n",
    "    for index, row in results.pandas().xyxy[0].sort_values('confidence', ascending = False).iterrows():\n",
    "        annotation += ' ' + str(row['confidence']) + ' ' + str(row['xmin']) + ' ' + str(row['ymin'])\n",
    "        annotation += ' ' + str(row['xmax'] - row['xmin']) + ' ' + str(row['ymax'] - row['ymin'])\n",
    "    \n",
    "    sample_prediction_df['annotations'] = annotation.strip()\n",
    "    env.predict(sample_prediction_df)"
   ]
  }
 ],
 "metadata": {
  "kernelspec": {
   "display_name": "Python 3",
   "language": "python",
   "name": "python3"
  },
  "language_info": {
   "codemirror_mode": {
    "name": "ipython",
    "version": 3
   },
   "file_extension": ".py",
   "mimetype": "text/x-python",
   "name": "python",
   "nbconvert_exporter": "python",
   "pygments_lexer": "ipython3",
   "version": "3.7.12"
  },
  "papermill": {
   "default_parameters": {},
   "duration": 23.965398,
   "end_time": "2022-02-23T17:13:14.786815",
   "environment_variables": {},
   "exception": null,
   "input_path": "__notebook__.ipynb",
   "output_path": "__notebook__.ipynb",
   "parameters": {},
   "start_time": "2022-02-23T17:12:50.821417",
   "version": "2.3.3"
  }
 },
 "nbformat": 4,
 "nbformat_minor": 5
}
