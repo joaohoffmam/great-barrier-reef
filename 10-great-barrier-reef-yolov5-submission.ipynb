{
 "cells": [
  {
   "cell_type": "code",
   "execution_count": 1,
   "id": "7a83d9dd",
   "metadata": {
    "_cell_guid": "b1076dfc-b9ad-4769-8c92-a6c4dae69d19",
    "_uuid": "8f2839f25d086af736a60e9eeb907d3b93b6e0e5",
    "execution": {
     "iopub.execute_input": "2022-02-23T18:03:36.011207Z",
     "iopub.status.busy": "2022-02-23T18:03:36.010464Z",
     "iopub.status.idle": "2022-02-23T18:03:37.447664Z",
     "shell.execute_reply": "2022-02-23T18:03:37.446846Z",
     "shell.execute_reply.started": "2022-02-23T18:02:21.174518Z"
    },
    "papermill": {
     "duration": 1.470241,
     "end_time": "2022-02-23T18:03:37.447827",
     "exception": false,
     "start_time": "2022-02-23T18:03:35.977586",
     "status": "completed"
    },
    "tags": []
   },
   "outputs": [],
   "source": [
    "import sys\n",
    "import torch"
   ]
  },
  {
   "cell_type": "code",
   "execution_count": 2,
   "id": "30333f89",
   "metadata": {
    "execution": {
     "iopub.execute_input": "2022-02-23T18:03:37.468103Z",
     "iopub.status.busy": "2022-02-23T18:03:37.467177Z",
     "iopub.status.idle": "2022-02-23T18:03:37.469098Z",
     "shell.execute_reply": "2022-02-23T18:03:37.469537Z",
     "shell.execute_reply.started": "2022-02-23T18:02:25.053380Z"
    },
    "papermill": {
     "duration": 0.013674,
     "end_time": "2022-02-23T18:03:37.469675",
     "exception": false,
     "start_time": "2022-02-23T18:03:37.456001",
     "status": "completed"
    },
    "tags": []
   },
   "outputs": [],
   "source": [
    "sys.path.append('../input/tensorflow-great-barrier-reef')"
   ]
  },
  {
   "cell_type": "code",
   "execution_count": 3,
   "id": "0379023f",
   "metadata": {
    "execution": {
     "iopub.execute_input": "2022-02-23T18:03:37.487676Z",
     "iopub.status.busy": "2022-02-23T18:03:37.486851Z",
     "iopub.status.idle": "2022-02-23T18:03:37.514992Z",
     "shell.execute_reply": "2022-02-23T18:03:37.514601Z",
     "shell.execute_reply.started": "2022-02-23T18:02:27.834659Z"
    },
    "papermill": {
     "duration": 0.038007,
     "end_time": "2022-02-23T18:03:37.515136",
     "exception": false,
     "start_time": "2022-02-23T18:03:37.477129",
     "status": "completed"
    },
    "tags": []
   },
   "outputs": [],
   "source": [
    "import greatbarrierreef"
   ]
  },
  {
   "cell_type": "code",
   "execution_count": 4,
   "id": "f0fb4cc1",
   "metadata": {
    "execution": {
     "iopub.execute_input": "2022-02-23T18:03:37.553274Z",
     "iopub.status.busy": "2022-02-23T18:03:37.550298Z",
     "iopub.status.idle": "2022-02-23T18:03:39.946561Z",
     "shell.execute_reply": "2022-02-23T18:03:39.947185Z",
     "shell.execute_reply.started": "2022-02-23T18:02:29.905790Z"
    },
    "papermill": {
     "duration": 2.423406,
     "end_time": "2022-02-23T18:03:39.947343",
     "exception": false,
     "start_time": "2022-02-23T18:03:37.523937",
     "status": "completed"
    },
    "tags": []
   },
   "outputs": [],
   "source": [
    "!cp ../input/7-great-barrier-reef-train-the-bigger-yolov5/Arial.ttf ./Arial.ttf\n",
    "!cp ../input/7-great-barrier-reef-train-the-bigger-yolov5/yolov5/runs/train/exp5/weights/best.pt ./best.pt"
   ]
  },
  {
   "cell_type": "code",
   "execution_count": 5,
   "id": "d44e12df",
   "metadata": {
    "execution": {
     "iopub.execute_input": "2022-02-23T18:03:39.966930Z",
     "iopub.status.busy": "2022-02-23T18:03:39.966335Z",
     "iopub.status.idle": "2022-02-23T18:03:45.791160Z",
     "shell.execute_reply": "2022-02-23T18:03:45.791581Z",
     "shell.execute_reply.started": "2022-02-23T18:02:35.588758Z"
    },
    "papermill": {
     "duration": 5.837168,
     "end_time": "2022-02-23T18:03:45.791769",
     "exception": false,
     "start_time": "2022-02-23T18:03:39.954601",
     "status": "completed"
    },
    "tags": []
   },
   "outputs": [
    {
     "name": "stderr",
     "output_type": "stream",
     "text": [
      "YOLOv5 🚀 v6.0-255-gca0a007 torch 1.9.1 CUDA:0 (Tesla P100-PCIE-16GB, 16281MiB)\n",
      "\n",
      "Fusing layers... \n",
      "Model Summary: 280 layers, 12308200 parameters, 0 gradients\n",
      "Adding AutoShape... \n"
     ]
    }
   ],
   "source": [
    "# Defining paths to load the model and best weights\n",
    "model_path = '../input/7-great-barrier-reef-train-the-bigger-yolov5/yolov5'\n",
    "weights_path = './best.pt'\n",
    "\n",
    "# Load YOLOv5 model\n",
    "model = torch.hub.load(model_path, 'custom', path = weights_path, source = 'local')\n",
    "\n",
    "# Use the confidence threshold that maximizes F1 score (see notebook number 8)\n",
    "model.conf = 0.022"
   ]
  },
  {
   "cell_type": "code",
   "execution_count": 6,
   "id": "5de7474e",
   "metadata": {
    "execution": {
     "iopub.execute_input": "2022-02-23T18:03:45.813424Z",
     "iopub.status.busy": "2022-02-23T18:03:45.812779Z",
     "iopub.status.idle": "2022-02-23T18:03:45.815685Z",
     "shell.execute_reply": "2022-02-23T18:03:45.815013Z",
     "shell.execute_reply.started": "2022-02-23T18:02:51.284005Z"
    },
    "papermill": {
     "duration": 0.015202,
     "end_time": "2022-02-23T18:03:45.815803",
     "exception": false,
     "start_time": "2022-02-23T18:03:45.800601",
     "status": "completed"
    },
    "tags": []
   },
   "outputs": [],
   "source": [
    "env = greatbarrierreef.make_env()\n",
    "iter_test = env.iter_test()"
   ]
  },
  {
   "cell_type": "code",
   "execution_count": 7,
   "id": "5f28b474",
   "metadata": {
    "execution": {
     "iopub.execute_input": "2022-02-23T18:03:45.838934Z",
     "iopub.status.busy": "2022-02-23T18:03:45.838357Z",
     "iopub.status.idle": "2022-02-23T18:03:51.124539Z",
     "shell.execute_reply": "2022-02-23T18:03:51.124007Z",
     "shell.execute_reply.started": "2022-02-23T18:02:54.024611Z"
    },
    "papermill": {
     "duration": 5.300722,
     "end_time": "2022-02-23T18:03:51.124669",
     "exception": false,
     "start_time": "2022-02-23T18:03:45.823947",
     "status": "completed"
    },
    "tags": []
   },
   "outputs": [
    {
     "name": "stdout",
     "output_type": "stream",
     "text": [
      "This version of the API is not optimized and should not be used to estimate the runtime of your code on the hidden test set.\n"
     ]
    }
   ],
   "source": [
    "for (pixel_array, sample_prediction_df) in iter_test:\n",
    "    results = model(pixel_array)\n",
    "    annotation = ''\n",
    "    \n",
    "    for index, row in results.pandas().xyxy[0].sort_values('confidence', ascending = False).iterrows():\n",
    "        annotation += ' ' + str(row['confidence']) + ' ' + str(row['xmin']) + ' ' + str(row['ymin'])\n",
    "        annotation += ' ' + str(row['xmax'] - row['xmin']) + ' ' + str(row['ymax'] - row['ymin'])\n",
    "    \n",
    "    sample_prediction_df['annotations'] = annotation.strip()\n",
    "    env.predict(sample_prediction_df)"
   ]
  }
 ],
 "metadata": {
  "kernelspec": {
   "display_name": "Python 3",
   "language": "python",
   "name": "python3"
  },
  "language_info": {
   "codemirror_mode": {
    "name": "ipython",
    "version": 3
   },
   "file_extension": ".py",
   "mimetype": "text/x-python",
   "name": "python",
   "nbconvert_exporter": "python",
   "pygments_lexer": "ipython3",
   "version": "3.7.12"
  },
  "papermill": {
   "default_parameters": {},
   "duration": 25.407844,
   "end_time": "2022-02-23T18:03:53.345220",
   "environment_variables": {},
   "exception": null,
   "input_path": "__notebook__.ipynb",
   "output_path": "__notebook__.ipynb",
   "parameters": {},
   "start_time": "2022-02-23T18:03:27.937376",
   "version": "2.3.3"
  }
 },
 "nbformat": 4,
 "nbformat_minor": 5
}
