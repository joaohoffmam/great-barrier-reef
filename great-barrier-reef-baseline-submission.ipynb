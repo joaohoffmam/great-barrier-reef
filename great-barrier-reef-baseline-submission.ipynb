{
 "cells": [
  {
   "cell_type": "code",
   "execution_count": 1,
   "id": "ad9817c8",
   "metadata": {
    "_cell_guid": "b1076dfc-b9ad-4769-8c92-a6c4dae69d19",
    "_uuid": "8f2839f25d086af736a60e9eeb907d3b93b6e0e5",
    "execution": {
     "iopub.execute_input": "2022-02-09T03:08:58.782144Z",
     "iopub.status.busy": "2022-02-09T03:08:58.781398Z",
     "iopub.status.idle": "2022-02-09T03:09:00.132138Z",
     "shell.execute_reply": "2022-02-09T03:09:00.131416Z",
     "shell.execute_reply.started": "2022-02-09T03:07:10.846586Z"
    },
    "papermill": {
     "duration": 1.36802,
     "end_time": "2022-02-09T03:09:00.132341",
     "exception": false,
     "start_time": "2022-02-09T03:08:58.764321",
     "status": "completed"
    },
    "tags": []
   },
   "outputs": [],
   "source": [
    "import sys\n",
    "import torch"
   ]
  },
  {
   "cell_type": "code",
   "execution_count": 2,
   "id": "68fa09cb",
   "metadata": {
    "execution": {
     "iopub.execute_input": "2022-02-09T03:09:00.153240Z",
     "iopub.status.busy": "2022-02-09T03:09:00.152362Z",
     "iopub.status.idle": "2022-02-09T03:09:00.155967Z",
     "shell.execute_reply": "2022-02-09T03:09:00.156462Z",
     "shell.execute_reply.started": "2022-02-09T03:07:14.428859Z"
    },
    "papermill": {
     "duration": 0.014597,
     "end_time": "2022-02-09T03:09:00.156652",
     "exception": false,
     "start_time": "2022-02-09T03:09:00.142055",
     "status": "completed"
    },
    "tags": []
   },
   "outputs": [],
   "source": [
    "sys.path.append('../input/tensorflow-great-barrier-reef')"
   ]
  },
  {
   "cell_type": "code",
   "execution_count": 3,
   "id": "2972b245",
   "metadata": {
    "execution": {
     "iopub.execute_input": "2022-02-09T03:09:00.174589Z",
     "iopub.status.busy": "2022-02-09T03:09:00.173898Z",
     "iopub.status.idle": "2022-02-09T03:09:00.202934Z",
     "shell.execute_reply": "2022-02-09T03:09:00.203549Z",
     "shell.execute_reply.started": "2022-02-09T03:07:16.468508Z"
    },
    "papermill": {
     "duration": 0.039841,
     "end_time": "2022-02-09T03:09:00.203747",
     "exception": false,
     "start_time": "2022-02-09T03:09:00.163906",
     "status": "completed"
    },
    "tags": []
   },
   "outputs": [],
   "source": [
    "import greatbarrierreef"
   ]
  },
  {
   "cell_type": "code",
   "execution_count": 4,
   "id": "21212819",
   "metadata": {
    "execution": {
     "iopub.execute_input": "2022-02-09T03:09:00.223103Z",
     "iopub.status.busy": "2022-02-09T03:09:00.222298Z",
     "iopub.status.idle": "2022-02-09T03:09:00.984680Z",
     "shell.execute_reply": "2022-02-09T03:09:00.985288Z",
     "shell.execute_reply.started": "2022-02-09T03:07:18.900176Z"
    },
    "papermill": {
     "duration": 0.773259,
     "end_time": "2022-02-09T03:09:00.985497",
     "exception": false,
     "start_time": "2022-02-09T03:09:00.212238",
     "status": "completed"
    },
    "tags": []
   },
   "outputs": [],
   "source": [
    "!cp ../input/k/joohoffmam/great-barrier-reef-making-baseline-predictions/Arial.ttf ./Arial.ttf"
   ]
  },
  {
   "cell_type": "code",
   "execution_count": 5,
   "id": "11b0b4a1",
   "metadata": {
    "execution": {
     "iopub.execute_input": "2022-02-09T03:09:01.006283Z",
     "iopub.status.busy": "2022-02-09T03:09:01.005534Z",
     "iopub.status.idle": "2022-02-09T03:09:03.763839Z",
     "shell.execute_reply": "2022-02-09T03:09:03.763260Z",
     "shell.execute_reply.started": "2022-02-09T03:07:49.887705Z"
    },
    "papermill": {
     "duration": 2.771177,
     "end_time": "2022-02-09T03:09:03.764006",
     "exception": false,
     "start_time": "2022-02-09T03:09:00.992829",
     "status": "completed"
    },
    "tags": []
   },
   "outputs": [
    {
     "name": "stderr",
     "output_type": "stream",
     "text": [
      "YOLOv5 🚀 v6.0-216-g856d4e5 torch 1.9.1+cpu CPU\n",
      "\n",
      "Fusing layers... \n",
      "Model Summary: 213 layers, 1760518 parameters, 0 gradients\n",
      "Adding AutoShape... \n"
     ]
    }
   ],
   "source": [
    "# Loading the baseline model\n",
    "model_path = '../input/k/joohoffmam/great-barrier-reef-making-baseline-predictions/yolov5'\n",
    "weights_path = '../input/k/joohoffmam/great-barrier-reef-making-baseline-predictions/baseline.pt'\n",
    "\n",
    "model = torch.hub.load(model_path, 'custom', path = weights_path, source = 'local')"
   ]
  },
  {
   "cell_type": "code",
   "execution_count": 6,
   "id": "33d9468c",
   "metadata": {
    "execution": {
     "iopub.execute_input": "2022-02-09T03:09:03.787728Z",
     "iopub.status.busy": "2022-02-09T03:09:03.787058Z",
     "iopub.status.idle": "2022-02-09T03:09:03.792284Z",
     "shell.execute_reply": "2022-02-09T03:09:03.791762Z",
     "shell.execute_reply.started": "2022-02-09T03:07:55.989610Z"
    },
    "papermill": {
     "duration": 0.018911,
     "end_time": "2022-02-09T03:09:03.792426",
     "exception": false,
     "start_time": "2022-02-09T03:09:03.773515",
     "status": "completed"
    },
    "tags": []
   },
   "outputs": [],
   "source": [
    "env = greatbarrierreef.make_env()\n",
    "iter_test = env.iter_test()"
   ]
  },
  {
   "cell_type": "code",
   "execution_count": 7,
   "id": "6c039bed",
   "metadata": {
    "execution": {
     "iopub.execute_input": "2022-02-09T03:09:03.817330Z",
     "iopub.status.busy": "2022-02-09T03:09:03.816644Z",
     "iopub.status.idle": "2022-02-09T03:09:04.516506Z",
     "shell.execute_reply": "2022-02-09T03:09:04.515815Z",
     "shell.execute_reply.started": "2022-02-09T03:07:59.820117Z"
    },
    "papermill": {
     "duration": 0.715782,
     "end_time": "2022-02-09T03:09:04.516706",
     "exception": false,
     "start_time": "2022-02-09T03:09:03.800924",
     "status": "completed"
    },
    "tags": []
   },
   "outputs": [
    {
     "name": "stdout",
     "output_type": "stream",
     "text": [
      "This version of the API is not optimized and should not be used to estimate the runtime of your code on the hidden test set.\n"
     ]
    }
   ],
   "source": [
    "for (pixel_array, sample_prediction_df) in iter_test:\n",
    "    results = model(pixel_array)\n",
    "    annotation = ''\n",
    "    \n",
    "    for index, row in results.pandas().xyxy[0].iterrows():\n",
    "        annotation += ' ' + str(row['confidence']) + ' ' + str(row['xmin']) + ' ' + str(row['ymin'])\n",
    "        annotation += ' ' + str(row['xmax'] - row['xmin']) + ' ' + str(row['ymax'] - row['ymin'])\n",
    "    \n",
    "    sample_prediction_df['annotations'] = annotation.strip()\n",
    "    env.predict(sample_prediction_df)"
   ]
  }
 ],
 "metadata": {
  "kernelspec": {
   "display_name": "Python 3",
   "language": "python",
   "name": "python3"
  },
  "language_info": {
   "codemirror_mode": {
    "name": "ipython",
    "version": 3
   },
   "file_extension": ".py",
   "mimetype": "text/x-python",
   "name": "python",
   "nbconvert_exporter": "python",
   "pygments_lexer": "ipython3",
   "version": "3.7.12"
  },
  "papermill": {
   "default_parameters": {},
   "duration": 17.715703,
   "end_time": "2022-02-09T03:09:05.539248",
   "environment_variables": {},
   "exception": null,
   "input_path": "__notebook__.ipynb",
   "output_path": "__notebook__.ipynb",
   "parameters": {},
   "start_time": "2022-02-09T03:08:47.823545",
   "version": "2.3.3"
  }
 },
 "nbformat": 4,
 "nbformat_minor": 5
}
