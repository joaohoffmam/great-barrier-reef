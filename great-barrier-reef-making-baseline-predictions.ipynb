{
 "cells": [
  {
   "cell_type": "code",
   "execution_count": 1,
   "id": "c636eb24",
   "metadata": {
    "execution": {
     "iopub.execute_input": "2022-02-09T00:24:58.450464Z",
     "iopub.status.busy": "2022-02-09T00:24:58.449924Z",
     "iopub.status.idle": "2022-02-09T00:26:50.381272Z",
     "shell.execute_reply": "2022-02-09T00:26:50.381737Z",
     "shell.execute_reply.started": "2022-02-09T00:11:32.744581Z"
    },
    "papermill": {
     "duration": 111.949246,
     "end_time": "2022-02-09T00:26:50.382407",
     "exception": false,
     "start_time": "2022-02-09T00:24:58.433161",
     "status": "completed"
    },
    "tags": []
   },
   "outputs": [
    {
     "name": "stdout",
     "output_type": "stream",
     "text": [
      "Requirement already satisfied: torch in /opt/conda/lib/python3.7/site-packages (1.9.1+cpu)\r\n",
      "Collecting torch\r\n",
      "  Downloading torch-1.10.2-cp37-cp37m-manylinux1_x86_64.whl (881.9 MB)\r\n",
      "     |████████████████████████████████| 881.9 MB 1.3 kB/s              \r\n",
      "\u001b[?25hRequirement already satisfied: torchvision in /opt/conda/lib/python3.7/site-packages (0.10.1+cpu)\r\n",
      "Collecting torchvision\r\n",
      "  Downloading torchvision-0.11.3-cp37-cp37m-manylinux1_x86_64.whl (23.2 MB)\r\n",
      "     |████████████████████████████████| 23.2 MB 32.2 MB/s            \r\n",
      "\u001b[?25hRequirement already satisfied: typing-extensions in /opt/conda/lib/python3.7/site-packages (from torch) (3.10.0.2)\r\n",
      "Requirement already satisfied: pillow!=8.3.0,>=5.3.0 in /opt/conda/lib/python3.7/site-packages (from torchvision) (8.2.0)\r\n",
      "Requirement already satisfied: numpy in /opt/conda/lib/python3.7/site-packages (from torchvision) (1.20.3)\r\n",
      "Installing collected packages: torch, torchvision\r\n",
      "  Attempting uninstall: torch\r\n",
      "    Found existing installation: torch 1.9.1+cpu\r\n",
      "    Uninstalling torch-1.9.1+cpu:\r\n",
      "      Successfully uninstalled torch-1.9.1+cpu\r\n",
      "  Attempting uninstall: torchvision\r\n",
      "    Found existing installation: torchvision 0.10.1+cpu\r\n",
      "    Uninstalling torchvision-0.10.1+cpu:\r\n",
      "      Successfully uninstalled torchvision-0.10.1+cpu\r\n",
      "\u001b[31mERROR: pip's dependency resolver does not currently take into account all the packages that are installed. This behaviour is the source of the following dependency conflicts.\r\n",
      "torchtext 0.10.1 requires torch==1.9.1, but you have torch 1.10.2 which is incompatible.\r\n",
      "torchaudio 0.9.1 requires torch==1.9.1, but you have torch 1.10.2 which is incompatible.\u001b[0m\r\n",
      "Successfully installed torch-1.10.2 torchvision-0.11.3\r\n",
      "\u001b[33mWARNING: Running pip as the 'root' user can result in broken permissions and conflicting behaviour with the system package manager. It is recommended to use a virtual environment instead: https://pip.pypa.io/warnings/venv\u001b[0m\r\n",
      "Note: you may need to restart the kernel to use updated packages.\n"
     ]
    }
   ],
   "source": [
    "pip install --upgrade torch torchvision"
   ]
  },
  {
   "cell_type": "code",
   "execution_count": 2,
   "id": "fa1131d6",
   "metadata": {
    "execution": {
     "iopub.execute_input": "2022-02-09T00:26:51.301378Z",
     "iopub.status.busy": "2022-02-09T00:26:51.300669Z",
     "iopub.status.idle": "2022-02-09T00:26:52.201418Z",
     "shell.execute_reply": "2022-02-09T00:26:52.201879Z",
     "shell.execute_reply.started": "2022-02-09T00:13:07.547517Z"
    },
    "papermill": {
     "duration": 1.356744,
     "end_time": "2022-02-09T00:26:52.202062",
     "exception": false,
     "start_time": "2022-02-09T00:26:50.845318",
     "status": "completed"
    },
    "tags": []
   },
   "outputs": [],
   "source": [
    "# PyTorch libraries\n",
    "import torch\n",
    "from torchvision.io import read_image\n",
    "from torchvision.utils import draw_bounding_boxes\n",
    "import torchvision.transforms.functional as F\n",
    "\n",
    "# Plot libraries\n",
    "import matplotlib.pyplot as plt"
   ]
  },
  {
   "cell_type": "code",
   "execution_count": 3,
   "id": "c99b452b",
   "metadata": {
    "execution": {
     "iopub.execute_input": "2022-02-09T00:26:53.102828Z",
     "iopub.status.busy": "2022-02-09T00:26:53.101875Z",
     "iopub.status.idle": "2022-02-09T00:26:53.112091Z",
     "shell.execute_reply": "2022-02-09T00:26:53.112502Z",
     "shell.execute_reply.started": "2022-02-09T00:13:11.072980Z"
    },
    "papermill": {
     "duration": 0.469545,
     "end_time": "2022-02-09T00:26:53.112667",
     "exception": false,
     "start_time": "2022-02-09T00:26:52.643122",
     "status": "completed"
    },
    "tags": []
   },
   "outputs": [],
   "source": [
    "# Function to display an image\n",
    "def show_image(image):\n",
    "    # Convert image\n",
    "    image = F.to_pil_image(image)\n",
    "    \n",
    "    # Show image\n",
    "    fig = plt.figure(figsize=(20, 15))\n",
    "    plt.grid(False)\n",
    "    plt.imshow(image)"
   ]
  },
  {
   "cell_type": "code",
   "execution_count": 4,
   "id": "263300f4",
   "metadata": {
    "execution": {
     "iopub.execute_input": "2022-02-09T00:26:54.107300Z",
     "iopub.status.busy": "2022-02-09T00:26:54.106558Z",
     "iopub.status.idle": "2022-02-09T00:26:54.108660Z",
     "shell.execute_reply": "2022-02-09T00:26:54.108143Z",
     "shell.execute_reply.started": "2022-02-09T00:13:13.453101Z"
    },
    "papermill": {
     "duration": 0.516386,
     "end_time": "2022-02-09T00:26:54.108791",
     "exception": false,
     "start_time": "2022-02-09T00:26:53.592405",
     "status": "completed"
    },
    "tags": []
   },
   "outputs": [],
   "source": [
    "# Function to draw a bounding box on an image based on some parameters\n",
    "def draw_bounding_box(image_path, results_df, color = 'red', thickness = 4): \n",
    "    # Read image\n",
    "    image = read_image(image_path)\n",
    "    \n",
    "    # Display image with bounding boxes\n",
    "    image = draw_bounding_boxes(image, torch.tensor(results_df[['xmin', 'ymin', 'xmax', 'ymax']].values), \n",
    "                                colors = color, width = thickness, labels = results_df['name'].to_list())\n",
    "    show_image(image)"
   ]
  },
  {
   "cell_type": "code",
   "execution_count": 5,
   "id": "074ec7d2",
   "metadata": {
    "execution": {
     "iopub.execute_input": "2022-02-09T00:26:55.006073Z",
     "iopub.status.busy": "2022-02-09T00:26:55.005038Z",
     "iopub.status.idle": "2022-02-09T00:27:16.237890Z",
     "shell.execute_reply": "2022-02-09T00:27:16.237270Z",
     "shell.execute_reply.started": "2022-02-09T00:21:50.747905Z"
    },
    "papermill": {
     "duration": 21.686827,
     "end_time": "2022-02-09T00:27:16.238050",
     "exception": false,
     "start_time": "2022-02-09T00:26:54.551223",
     "status": "completed"
    },
    "tags": []
   },
   "outputs": [
    {
     "name": "stderr",
     "output_type": "stream",
     "text": [
      "Downloading: \"https://github.com/ultralytics/yolov5/archive/master.zip\" to /root/.cache/torch/hub/master.zip\n",
      "Downloading https://ultralytics.com/assets/Arial.ttf to /root/.config/Ultralytics/Arial.ttf...\n",
      "\u001b[31m\u001b[1mrequirements:\u001b[0m torch>=1.7.0 not found and is required by YOLOv5, attempting auto-update...\n",
      "WARNING: Running pip as the 'root' user can result in broken permissions and conflicting behaviour with the system package manager. It is recommended to use a virtual environment instead: https://pip.pypa.io/warnings/venv\n",
      "Requirement already satisfied: torch>=1.7.0 in /opt/conda/lib/python3.7/site-packages (1.10.2)\n",
      "Requirement already satisfied: typing-extensions in /opt/conda/lib/python3.7/site-packages (from torch>=1.7.0) (3.10.0.2)\n",
      "\n",
      "\u001b[31m\u001b[1mrequirements:\u001b[0m torchvision>=0.8.1 not found and is required by YOLOv5, attempting auto-update...\n",
      "WARNING: Running pip as the 'root' user can result in broken permissions and conflicting behaviour with the system package manager. It is recommended to use a virtual environment instead: https://pip.pypa.io/warnings/venv\n",
      "Requirement already satisfied: torchvision>=0.8.1 in /opt/conda/lib/python3.7/site-packages (0.11.3)\n",
      "Requirement already satisfied: pillow!=8.3.0,>=5.3.0 in /opt/conda/lib/python3.7/site-packages (from torchvision>=0.8.1) (8.2.0)\n",
      "Requirement already satisfied: numpy in /opt/conda/lib/python3.7/site-packages (from torchvision>=0.8.1) (1.20.3)\n",
      "Requirement already satisfied: torch==1.10.2 in /opt/conda/lib/python3.7/site-packages (from torchvision>=0.8.1) (1.10.2)\n",
      "Requirement already satisfied: typing-extensions in /opt/conda/lib/python3.7/site-packages (from torch==1.10.2->torchvision>=0.8.1) (3.10.0.2)\n",
      "\n",
      "\u001b[31m\u001b[1mrequirements:\u001b[0m 2 packages updated per /root/.cache/torch/hub/ultralytics_yolov5_master/requirements.txt\n",
      "\u001b[31m\u001b[1mrequirements:\u001b[0m ⚠️ \u001b[1mRestart runtime or rerun command for updates to take effect\u001b[0m\n",
      "\n",
      "YOLOv5 🚀 2022-2-9 torch 1.10.2+cu102 CPU\n",
      "\n",
      "Fusing layers... \n",
      "Model Summary: 213 layers, 1760518 parameters, 0 gradients\n",
      "Adding AutoShape... \n",
      "/opt/conda/lib/python3.7/site-packages/torch/autocast_mode.py:141: UserWarning: User provided device_type of 'cuda', but CUDA is not available. Disabling\n",
      "  warnings.warn('User provided device_type of \\'cuda\\', but CUDA is not available. Disabling')\n",
      "image 1/1: 720x1280 1 starfish\n",
      "Speed: 86.2ms pre-process, 62.0ms inference, 2.1ms NMS per image at shape (1, 3, 384, 640)\n"
     ]
    },
    {
     "data": {
      "text/html": [
       "<div>\n",
       "<style scoped>\n",
       "    .dataframe tbody tr th:only-of-type {\n",
       "        vertical-align: middle;\n",
       "    }\n",
       "\n",
       "    .dataframe tbody tr th {\n",
       "        vertical-align: top;\n",
       "    }\n",
       "\n",
       "    .dataframe thead th {\n",
       "        text-align: right;\n",
       "    }\n",
       "</style>\n",
       "<table border=\"1\" class=\"dataframe\">\n",
       "  <thead>\n",
       "    <tr style=\"text-align: right;\">\n",
       "      <th></th>\n",
       "      <th>xmin</th>\n",
       "      <th>ymin</th>\n",
       "      <th>xmax</th>\n",
       "      <th>ymax</th>\n",
       "      <th>confidence</th>\n",
       "      <th>class</th>\n",
       "      <th>name</th>\n",
       "    </tr>\n",
       "  </thead>\n",
       "  <tbody>\n",
       "    <tr>\n",
       "      <th>0</th>\n",
       "      <td>747.949463</td>\n",
       "      <td>641.775024</td>\n",
       "      <td>799.69165</td>\n",
       "      <td>679.760742</td>\n",
       "      <td>0.331777</td>\n",
       "      <td>0</td>\n",
       "      <td>starfish</td>\n",
       "    </tr>\n",
       "  </tbody>\n",
       "</table>\n",
       "</div>"
      ],
      "text/plain": [
       "         xmin        ymin       xmax        ymax  confidence  class      name\n",
       "0  747.949463  641.775024  799.69165  679.760742    0.331777      0  starfish"
      ]
     },
     "execution_count": 5,
     "metadata": {},
     "output_type": "execute_result"
    }
   ],
   "source": [
    "# Loading the baseline model\n",
    "model_path = '../input/great-barrier-reef-training-a-baseline-yolov5/yolov5/runs/train/exp/weights/best.pt'\n",
    "model = torch.hub.load('ultralytics/yolov5', 'custom', path = model_path)\n",
    "\n",
    "# Load a test image\n",
    "img_path = '../input/great-barrier-reef-training-a-baseline-yolov5/datasets/validation/1-4137.jpg'\n",
    "imgs = [img_path]\n",
    "\n",
    "# Inference\n",
    "results = model(imgs)\n",
    "\n",
    "# Print results\n",
    "results.print()\n",
    "results_df = results.pandas().xyxy[0]\n",
    "results_df"
   ]
  },
  {
   "cell_type": "code",
   "execution_count": 6,
   "id": "6d3baba0",
   "metadata": {
    "execution": {
     "iopub.execute_input": "2022-02-09T00:27:17.177843Z",
     "iopub.status.busy": "2022-02-09T00:27:17.177222Z",
     "iopub.status.idle": "2022-02-09T00:27:17.436278Z",
     "shell.execute_reply": "2022-02-09T00:27:17.436744Z",
     "shell.execute_reply.started": "2022-02-09T00:22:00.951227Z"
    },
    "papermill": {
     "duration": 0.722431,
     "end_time": "2022-02-09T00:27:17.436960",
     "exception": false,
     "start_time": "2022-02-09T00:27:16.714529",
     "status": "completed"
    },
    "tags": []
   },
   "outputs": [],
   "source": [
    "# Show image with bounding boxes\n",
    "draw_bounding_box(img_path, results_df)"
   ]
  }
 ],
 "metadata": {
  "kernelspec": {
   "display_name": "Python 3",
   "language": "python",
   "name": "python3"
  },
  "language_info": {
   "codemirror_mode": {
    "name": "ipython",
    "version": 3
   },
   "file_extension": ".py",
   "mimetype": "text/x-python",
   "name": "python",
   "nbconvert_exporter": "python",
   "pygments_lexer": "ipython3",
   "version": "3.7.12"
  },
  "papermill": {
   "default_parameters": {},
   "duration": 148.269541,
   "end_time": "2022-02-09T00:27:18.935643",
   "environment_variables": {},
   "exception": null,
   "input_path": "__notebook__.ipynb",
   "output_path": "__notebook__.ipynb",
   "parameters": {},
   "start_time": "2022-02-09T00:24:50.666102",
   "version": "2.3.3"
  }
 },
 "nbformat": 4,
 "nbformat_minor": 5
}
