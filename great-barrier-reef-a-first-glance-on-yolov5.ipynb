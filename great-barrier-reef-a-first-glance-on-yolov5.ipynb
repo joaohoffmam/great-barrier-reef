{
 "cells": [
  {
   "cell_type": "markdown",
   "id": "ab06d1fa",
   "metadata": {
    "papermill": {
     "duration": 0.008607,
     "end_time": "2022-01-21T04:14:49.389434",
     "exception": false,
     "start_time": "2022-01-21T04:14:49.380827",
     "status": "completed"
    },
    "tags": []
   },
   "source": [
    "# Importing the libraries"
   ]
  },
  {
   "cell_type": "code",
   "execution_count": 1,
   "id": "3dbf1f51",
   "metadata": {
    "_cell_guid": "b1076dfc-b9ad-4769-8c92-a6c4dae69d19",
    "_uuid": "8f2839f25d086af736a60e9eeb907d3b93b6e0e5",
    "execution": {
     "iopub.execute_input": "2022-01-21T04:14:49.418613Z",
     "iopub.status.busy": "2022-01-21T04:14:49.417574Z",
     "iopub.status.idle": "2022-01-21T04:16:21.337364Z",
     "shell.execute_reply": "2022-01-21T04:16:21.336215Z",
     "shell.execute_reply.started": "2022-01-21T04:07:50.743489Z"
    },
    "papermill": {
     "duration": 91.940189,
     "end_time": "2022-01-21T04:16:21.337675",
     "exception": false,
     "start_time": "2022-01-21T04:14:49.397486",
     "status": "completed"
    },
    "tags": []
   },
   "outputs": [
    {
     "name": "stdout",
     "output_type": "stream",
     "text": [
      "Requirement already satisfied: torch in /opt/conda/lib/python3.7/site-packages (1.9.1+cpu)\r\n",
      "Collecting torch\r\n",
      "  Downloading torch-1.10.1-cp37-cp37m-manylinux1_x86_64.whl (881.9 MB)\r\n",
      "     |████████████████████████████████| 881.9 MB 10 kB/s              \r\n",
      "\u001b[?25hRequirement already satisfied: torchvision in /opt/conda/lib/python3.7/site-packages (0.10.1+cpu)\r\n",
      "Collecting torchvision\r\n",
      "  Downloading torchvision-0.11.2-cp37-cp37m-manylinux1_x86_64.whl (23.3 MB)\r\n",
      "     |████████████████████████████████| 23.3 MB 166 kB/s             \r\n",
      "\u001b[?25hRequirement already satisfied: typing-extensions in /opt/conda/lib/python3.7/site-packages (from torch) (3.10.0.2)\r\n",
      "Requirement already satisfied: pillow!=8.3.0,>=5.3.0 in /opt/conda/lib/python3.7/site-packages (from torchvision) (8.2.0)\r\n",
      "Requirement already satisfied: numpy in /opt/conda/lib/python3.7/site-packages (from torchvision) (1.19.5)\r\n",
      "Installing collected packages: torch, torchvision\r\n",
      "  Attempting uninstall: torch\r\n",
      "    Found existing installation: torch 1.9.1+cpu\r\n",
      "    Uninstalling torch-1.9.1+cpu:\r\n",
      "      Successfully uninstalled torch-1.9.1+cpu\r\n",
      "  Attempting uninstall: torchvision\r\n",
      "    Found existing installation: torchvision 0.10.1+cpu\r\n",
      "    Uninstalling torchvision-0.10.1+cpu:\r\n",
      "      Successfully uninstalled torchvision-0.10.1+cpu\r\n",
      "\u001b[31mERROR: pip's dependency resolver does not currently take into account all the packages that are installed. This behaviour is the source of the following dependency conflicts.\r\n",
      "torchtext 0.10.1 requires torch==1.9.1, but you have torch 1.10.1 which is incompatible.\r\n",
      "torchaudio 0.9.1 requires torch==1.9.1, but you have torch 1.10.1 which is incompatible.\u001b[0m\r\n",
      "Successfully installed torch-1.10.1 torchvision-0.11.2\r\n",
      "\u001b[33mWARNING: Running pip as the 'root' user can result in broken permissions and conflicting behaviour with the system package manager. It is recommended to use a virtual environment instead: https://pip.pypa.io/warnings/venv\u001b[0m\r\n",
      "Note: you may need to restart the kernel to use updated packages.\n"
     ]
    }
   ],
   "source": [
    "pip install --upgrade torch torchvision"
   ]
  },
  {
   "cell_type": "code",
   "execution_count": 2,
   "id": "b78028d2",
   "metadata": {
    "execution": {
     "iopub.execute_input": "2022-01-21T04:16:22.226405Z",
     "iopub.status.busy": "2022-01-21T04:16:22.225395Z",
     "iopub.status.idle": "2022-01-21T04:16:23.177019Z",
     "shell.execute_reply": "2022-01-21T04:16:23.176439Z",
     "shell.execute_reply.started": "2022-01-21T04:11:13.870519Z"
    },
    "papermill": {
     "duration": 1.389774,
     "end_time": "2022-01-21T04:16:23.177179",
     "exception": false,
     "start_time": "2022-01-21T04:16:21.787405",
     "status": "completed"
    },
    "tags": []
   },
   "outputs": [],
   "source": [
    "# PyTorch libraries\n",
    "import torch\n",
    "from torchvision.io import read_image\n",
    "from torchvision.utils import draw_bounding_boxes\n",
    "import torchvision.transforms.functional as F\n",
    "\n",
    "# Plot libraries\n",
    "import matplotlib.pyplot as plt\n",
    "\n",
    "# Other libraries\n",
    "import requests"
   ]
  },
  {
   "cell_type": "markdown",
   "id": "bb6f89e4",
   "metadata": {
    "papermill": {
     "duration": 0.447335,
     "end_time": "2022-01-21T04:16:24.051800",
     "exception": false,
     "start_time": "2022-01-21T04:16:23.604465",
     "status": "completed"
    },
    "tags": []
   },
   "source": [
    "# Function definitions"
   ]
  },
  {
   "cell_type": "code",
   "execution_count": 3,
   "id": "d7cb8f40",
   "metadata": {
    "execution": {
     "iopub.execute_input": "2022-01-21T04:16:24.965607Z",
     "iopub.status.busy": "2022-01-21T04:16:24.964538Z",
     "iopub.status.idle": "2022-01-21T04:16:24.966807Z",
     "shell.execute_reply": "2022-01-21T04:16:24.967282Z",
     "shell.execute_reply.started": "2022-01-21T04:11:10.563448Z"
    },
    "papermill": {
     "duration": 0.439581,
     "end_time": "2022-01-21T04:16:24.967471",
     "exception": false,
     "start_time": "2022-01-21T04:16:24.527890",
     "status": "completed"
    },
    "tags": []
   },
   "outputs": [],
   "source": [
    "# Function to display an image\n",
    "def show_image(image):\n",
    "    # Convert image\n",
    "    image = F.to_pil_image(image)\n",
    "    \n",
    "    # Show image\n",
    "    fig = plt.figure(figsize=(20, 15))\n",
    "    plt.grid(False)\n",
    "    plt.imshow(image)"
   ]
  },
  {
   "cell_type": "code",
   "execution_count": 4,
   "id": "68cd96d7",
   "metadata": {
    "execution": {
     "iopub.execute_input": "2022-01-21T04:16:25.828474Z",
     "iopub.status.busy": "2022-01-21T04:16:25.827336Z",
     "iopub.status.idle": "2022-01-21T04:16:25.829338Z",
     "shell.execute_reply": "2022-01-21T04:16:25.830037Z",
     "shell.execute_reply.started": "2022-01-21T04:09:04.403588Z"
    },
    "papermill": {
     "duration": 0.439986,
     "end_time": "2022-01-21T04:16:25.830232",
     "exception": false,
     "start_time": "2022-01-21T04:16:25.390246",
     "status": "completed"
    },
    "tags": []
   },
   "outputs": [],
   "source": [
    "# Function to draw a bounding box on an image based on some parameters\n",
    "def draw_bounding_box(image_path, results_df, color = 'red', thickness = 4): \n",
    "    # Read image\n",
    "    image = read_image(image_path)\n",
    "    \n",
    "    # Display image with bounding boxes\n",
    "    image = draw_bounding_boxes(image, torch.tensor(results_df[['xmin', 'ymin', 'xmax', 'ymax']].values), \n",
    "                                colors = color, width = thickness)\n",
    "    show_image(image)"
   ]
  },
  {
   "cell_type": "markdown",
   "id": "86f21eac",
   "metadata": {
    "papermill": {
     "duration": 0.437769,
     "end_time": "2022-01-21T04:16:26.719204",
     "exception": false,
     "start_time": "2022-01-21T04:16:26.281435",
     "status": "completed"
    },
    "tags": []
   },
   "source": [
    "# Load an run the model"
   ]
  },
  {
   "cell_type": "code",
   "execution_count": 5,
   "id": "a04799ee",
   "metadata": {
    "execution": {
     "iopub.execute_input": "2022-01-21T04:16:27.942596Z",
     "iopub.status.busy": "2022-01-21T04:16:27.941389Z",
     "iopub.status.idle": "2022-01-21T04:16:51.597711Z",
     "shell.execute_reply": "2022-01-21T04:16:51.597111Z",
     "shell.execute_reply.started": "2022-01-21T04:09:04.698388Z"
    },
    "papermill": {
     "duration": 24.448005,
     "end_time": "2022-01-21T04:16:51.597922",
     "exception": false,
     "start_time": "2022-01-21T04:16:27.149917",
     "status": "completed"
    },
    "tags": []
   },
   "outputs": [
    {
     "name": "stderr",
     "output_type": "stream",
     "text": [
      "Downloading: \"https://github.com/ultralytics/yolov5/archive/master.zip\" to /root/.cache/torch/hub/master.zip\n"
     ]
    },
    {
     "name": "stdout",
     "output_type": "stream",
     "text": [
      "Downloading https://ultralytics.com/assets/Arial.ttf to /root/.config/Ultralytics/Arial.ttf...\n",
      "\u001b[31m\u001b[1mrequirements:\u001b[0m torch>=1.7.0 not found and is required by YOLOv5, attempting auto-update...\n"
     ]
    },
    {
     "name": "stderr",
     "output_type": "stream",
     "text": [
      "WARNING: Running pip as the 'root' user can result in broken permissions and conflicting behaviour with the system package manager. It is recommended to use a virtual environment instead: https://pip.pypa.io/warnings/venv\n"
     ]
    },
    {
     "name": "stdout",
     "output_type": "stream",
     "text": [
      "Requirement already satisfied: torch>=1.7.0 in /opt/conda/lib/python3.7/site-packages (1.10.1)\n",
      "Requirement already satisfied: typing-extensions in /opt/conda/lib/python3.7/site-packages (from torch>=1.7.0) (3.10.0.2)\n",
      "\n",
      "\u001b[31m\u001b[1mrequirements:\u001b[0m torchvision>=0.8.1 not found and is required by YOLOv5, attempting auto-update...\n"
     ]
    },
    {
     "name": "stderr",
     "output_type": "stream",
     "text": [
      "WARNING: Running pip as the 'root' user can result in broken permissions and conflicting behaviour with the system package manager. It is recommended to use a virtual environment instead: https://pip.pypa.io/warnings/venv\n",
      "YOLOv5 🚀 2022-1-21 torch 1.10.1+cu102 CPU\n",
      "\n"
     ]
    },
    {
     "name": "stdout",
     "output_type": "stream",
     "text": [
      "Requirement already satisfied: torchvision>=0.8.1 in /opt/conda/lib/python3.7/site-packages (0.11.2)\n",
      "Requirement already satisfied: numpy in /opt/conda/lib/python3.7/site-packages (from torchvision>=0.8.1) (1.19.5)\n",
      "Requirement already satisfied: torch==1.10.1 in /opt/conda/lib/python3.7/site-packages (from torchvision>=0.8.1) (1.10.1)\n",
      "Requirement already satisfied: pillow!=8.3.0,>=5.3.0 in /opt/conda/lib/python3.7/site-packages (from torchvision>=0.8.1) (8.2.0)\n",
      "Requirement already satisfied: typing-extensions in /opt/conda/lib/python3.7/site-packages (from torch==1.10.1->torchvision>=0.8.1) (3.10.0.2)\n",
      "\n",
      "\u001b[31m\u001b[1mrequirements:\u001b[0m 2 packages updated per /root/.cache/torch/hub/ultralytics_yolov5_master/requirements.txt\n",
      "\u001b[31m\u001b[1mrequirements:\u001b[0m ⚠️ \u001b[1mRestart runtime or rerun command for updates to take effect\u001b[0m\n",
      "\n",
      "Downloading https://github.com/ultralytics/yolov5/releases/download/v6.0/yolov5s.pt to yolov5s.pt...\n"
     ]
    },
    {
     "data": {
      "application/vnd.jupyter.widget-view+json": {
       "model_id": "f6eb348497b943f0878f31dd52dc7d84",
       "version_major": 2,
       "version_minor": 0
      },
      "text/plain": [
       "  0%|          | 0.00/14.0M [00:00<?, ?B/s]"
      ]
     },
     "metadata": {},
     "output_type": "display_data"
    },
    {
     "name": "stderr",
     "output_type": "stream",
     "text": [
      "Fusing layers... \n",
      "Model Summary: 213 layers, 7225885 parameters, 0 gradients\n",
      "Adding AutoShape... \n"
     ]
    },
    {
     "name": "stdout",
     "output_type": "stream",
     "text": [
      "\n"
     ]
    },
    {
     "name": "stderr",
     "output_type": "stream",
     "text": [
      "/opt/conda/lib/python3.7/site-packages/torch/autocast_mode.py:141: UserWarning: User provided device_type of 'cuda', but CUDA is not available. Disabling\n",
      "  warnings.warn('User provided device_type of \\'cuda\\', but CUDA is not available. Disabling')\n",
      "image 1/1: 720x1280 2 persons, 1 tie\n",
      "Speed: 581.0ms pre-process, 153.7ms inference, 1.8ms NMS per image at shape (1, 3, 384, 640)\n"
     ]
    },
    {
     "data": {
      "text/html": [
       "<div>\n",
       "<style scoped>\n",
       "    .dataframe tbody tr th:only-of-type {\n",
       "        vertical-align: middle;\n",
       "    }\n",
       "\n",
       "    .dataframe tbody tr th {\n",
       "        vertical-align: top;\n",
       "    }\n",
       "\n",
       "    .dataframe thead th {\n",
       "        text-align: right;\n",
       "    }\n",
       "</style>\n",
       "<table border=\"1\" class=\"dataframe\">\n",
       "  <thead>\n",
       "    <tr style=\"text-align: right;\">\n",
       "      <th></th>\n",
       "      <th>xmin</th>\n",
       "      <th>ymin</th>\n",
       "      <th>xmax</th>\n",
       "      <th>ymax</th>\n",
       "      <th>confidence</th>\n",
       "      <th>class</th>\n",
       "      <th>name</th>\n",
       "    </tr>\n",
       "  </thead>\n",
       "  <tbody>\n",
       "    <tr>\n",
       "      <th>0</th>\n",
       "      <td>751.908264</td>\n",
       "      <td>45.572388</td>\n",
       "      <td>1148.552246</td>\n",
       "      <td>716.217957</td>\n",
       "      <td>0.875047</td>\n",
       "      <td>0</td>\n",
       "      <td>person</td>\n",
       "    </tr>\n",
       "    <tr>\n",
       "      <th>1</th>\n",
       "      <td>100.012695</td>\n",
       "      <td>201.289734</td>\n",
       "      <td>1002.052246</td>\n",
       "      <td>718.762939</td>\n",
       "      <td>0.579518</td>\n",
       "      <td>0</td>\n",
       "      <td>person</td>\n",
       "    </tr>\n",
       "    <tr>\n",
       "      <th>2</th>\n",
       "      <td>438.405090</td>\n",
       "      <td>421.902405</td>\n",
       "      <td>509.924805</td>\n",
       "      <td>720.000000</td>\n",
       "      <td>0.522343</td>\n",
       "      <td>27</td>\n",
       "      <td>tie</td>\n",
       "    </tr>\n",
       "  </tbody>\n",
       "</table>\n",
       "</div>"
      ],
      "text/plain": [
       "         xmin        ymin         xmax        ymax  confidence  class    name\n",
       "0  751.908264   45.572388  1148.552246  716.217957    0.875047      0  person\n",
       "1  100.012695  201.289734  1002.052246  718.762939    0.579518      0  person\n",
       "2  438.405090  421.902405   509.924805  720.000000    0.522343     27     tie"
      ]
     },
     "execution_count": 5,
     "metadata": {},
     "output_type": "execute_result"
    }
   ],
   "source": [
    "# Loading the model\n",
    "model = torch.hub.load('ultralytics/yolov5', 'yolov5s', pretrained = True)\n",
    "\n",
    "# Load a test image\n",
    "imgs = ['https://ultralytics.com/images/zidane.jpg']\n",
    "\n",
    "# Inference\n",
    "results = model(imgs)\n",
    "\n",
    "# Print results\n",
    "results.print()\n",
    "results_df = results.pandas().xyxy[0]\n",
    "results_df"
   ]
  },
  {
   "cell_type": "code",
   "execution_count": 6,
   "id": "5446fbc1",
   "metadata": {
    "execution": {
     "iopub.execute_input": "2022-01-21T04:16:52.517954Z",
     "iopub.status.busy": "2022-01-21T04:16:52.517213Z",
     "iopub.status.idle": "2022-01-21T04:16:53.141646Z",
     "shell.execute_reply": "2022-01-21T04:16:53.143056Z",
     "shell.execute_reply.started": "2022-01-21T04:09:27.997821Z"
    },
    "papermill": {
     "duration": 1.080971,
     "end_time": "2022-01-21T04:16:53.143368",
     "exception": false,
     "start_time": "2022-01-21T04:16:52.062397",
     "status": "completed"
    },
    "tags": []
   },
   "outputs": [],
   "source": [
    "# Download image\n",
    "img_data = requests.get('https://ultralytics.com/images/zidane.jpg').content\n",
    "with open('zidane.jpg', 'wb') as handler:\n",
    "    handler.write(img_data)\n",
    "    \n",
    "# Show image with bounding boxes\n",
    "draw_bounding_box('zidane.jpg', results_df)"
   ]
  }
 ],
 "metadata": {
  "kernelspec": {
   "display_name": "Python 3",
   "language": "python",
   "name": "python3"
  },
  "language_info": {
   "codemirror_mode": {
    "name": "ipython",
    "version": 3
   },
   "file_extension": ".py",
   "mimetype": "text/x-python",
   "name": "python",
   "nbconvert_exporter": "python",
   "pygments_lexer": "ipython3",
   "version": "3.7.12"
  },
  "papermill": {
   "default_parameters": {},
   "duration": 135.492013,
   "end_time": "2022-01-21T04:16:54.625368",
   "environment_variables": {},
   "exception": null,
   "input_path": "__notebook__.ipynb",
   "output_path": "__notebook__.ipynb",
   "parameters": {},
   "start_time": "2022-01-21T04:14:39.133355",
   "version": "2.3.3"
  },
  "widgets": {
   "application/vnd.jupyter.widget-state+json": {
    "state": {
     "04eba8414dbf4d8a8f02b35b0961eee4": {
      "model_module": "@jupyter-widgets/controls",
      "model_module_version": "1.5.0",
      "model_name": "FloatProgressModel",
      "state": {
       "_dom_classes": [],
       "_model_module": "@jupyter-widgets/controls",
       "_model_module_version": "1.5.0",
       "_model_name": "FloatProgressModel",
       "_view_count": null,
       "_view_module": "@jupyter-widgets/controls",
       "_view_module_version": "1.5.0",
       "_view_name": "ProgressView",
       "bar_style": "success",
       "description": "",
       "description_tooltip": null,
       "layout": "IPY_MODEL_5da8e2423a2049af9ebf679a9292be8f",
       "max": 14698491.0,
       "min": 0.0,
       "orientation": "horizontal",
       "style": "IPY_MODEL_8a6047553b3a4269b12f9b8307d954bd",
       "value": 14698491.0
      }
     },
     "12016c5315ef4f92903813dbd5a31234": {
      "model_module": "@jupyter-widgets/controls",
      "model_module_version": "1.5.0",
      "model_name": "DescriptionStyleModel",
      "state": {
       "_model_module": "@jupyter-widgets/controls",
       "_model_module_version": "1.5.0",
       "_model_name": "DescriptionStyleModel",
       "_view_count": null,
       "_view_module": "@jupyter-widgets/base",
       "_view_module_version": "1.2.0",
       "_view_name": "StyleView",
       "description_width": ""
      }
     },
     "21976930584747c7abda381da3f53623": {
      "model_module": "@jupyter-widgets/controls",
      "model_module_version": "1.5.0",
      "model_name": "HTMLModel",
      "state": {
       "_dom_classes": [],
       "_model_module": "@jupyter-widgets/controls",
       "_model_module_version": "1.5.0",
       "_model_name": "HTMLModel",
       "_view_count": null,
       "_view_module": "@jupyter-widgets/controls",
       "_view_module_version": "1.5.0",
       "_view_name": "HTMLView",
       "description": "",
       "description_tooltip": null,
       "layout": "IPY_MODEL_68eb0f89c9da4732a6588978871c86c9",
       "placeholder": "​",
       "style": "IPY_MODEL_12016c5315ef4f92903813dbd5a31234",
       "value": "100%"
      }
     },
     "5da8e2423a2049af9ebf679a9292be8f": {
      "model_module": "@jupyter-widgets/base",
      "model_module_version": "1.2.0",
      "model_name": "LayoutModel",
      "state": {
       "_model_module": "@jupyter-widgets/base",
       "_model_module_version": "1.2.0",
       "_model_name": "LayoutModel",
       "_view_count": null,
       "_view_module": "@jupyter-widgets/base",
       "_view_module_version": "1.2.0",
       "_view_name": "LayoutView",
       "align_content": null,
       "align_items": null,
       "align_self": null,
       "border": null,
       "bottom": null,
       "display": null,
       "flex": null,
       "flex_flow": null,
       "grid_area": null,
       "grid_auto_columns": null,
       "grid_auto_flow": null,
       "grid_auto_rows": null,
       "grid_column": null,
       "grid_gap": null,
       "grid_row": null,
       "grid_template_areas": null,
       "grid_template_columns": null,
       "grid_template_rows": null,
       "height": null,
       "justify_content": null,
       "justify_items": null,
       "left": null,
       "margin": null,
       "max_height": null,
       "max_width": null,
       "min_height": null,
       "min_width": null,
       "object_fit": null,
       "object_position": null,
       "order": null,
       "overflow": null,
       "overflow_x": null,
       "overflow_y": null,
       "padding": null,
       "right": null,
       "top": null,
       "visibility": null,
       "width": null
      }
     },
     "68eb0f89c9da4732a6588978871c86c9": {
      "model_module": "@jupyter-widgets/base",
      "model_module_version": "1.2.0",
      "model_name": "LayoutModel",
      "state": {
       "_model_module": "@jupyter-widgets/base",
       "_model_module_version": "1.2.0",
       "_model_name": "LayoutModel",
       "_view_count": null,
       "_view_module": "@jupyter-widgets/base",
       "_view_module_version": "1.2.0",
       "_view_name": "LayoutView",
       "align_content": null,
       "align_items": null,
       "align_self": null,
       "border": null,
       "bottom": null,
       "display": null,
       "flex": null,
       "flex_flow": null,
       "grid_area": null,
       "grid_auto_columns": null,
       "grid_auto_flow": null,
       "grid_auto_rows": null,
       "grid_column": null,
       "grid_gap": null,
       "grid_row": null,
       "grid_template_areas": null,
       "grid_template_columns": null,
       "grid_template_rows": null,
       "height": null,
       "justify_content": null,
       "justify_items": null,
       "left": null,
       "margin": null,
       "max_height": null,
       "max_width": null,
       "min_height": null,
       "min_width": null,
       "object_fit": null,
       "object_position": null,
       "order": null,
       "overflow": null,
       "overflow_x": null,
       "overflow_y": null,
       "padding": null,
       "right": null,
       "top": null,
       "visibility": null,
       "width": null
      }
     },
     "8539e73ab5bc41b1bed85d03b73990d1": {
      "model_module": "@jupyter-widgets/controls",
      "model_module_version": "1.5.0",
      "model_name": "DescriptionStyleModel",
      "state": {
       "_model_module": "@jupyter-widgets/controls",
       "_model_module_version": "1.5.0",
       "_model_name": "DescriptionStyleModel",
       "_view_count": null,
       "_view_module": "@jupyter-widgets/base",
       "_view_module_version": "1.2.0",
       "_view_name": "StyleView",
       "description_width": ""
      }
     },
     "8a6047553b3a4269b12f9b8307d954bd": {
      "model_module": "@jupyter-widgets/controls",
      "model_module_version": "1.5.0",
      "model_name": "ProgressStyleModel",
      "state": {
       "_model_module": "@jupyter-widgets/controls",
       "_model_module_version": "1.5.0",
       "_model_name": "ProgressStyleModel",
       "_view_count": null,
       "_view_module": "@jupyter-widgets/base",
       "_view_module_version": "1.2.0",
       "_view_name": "StyleView",
       "bar_color": null,
       "description_width": ""
      }
     },
     "ba34fed0ddaa44beb055c79de6bffe1f": {
      "model_module": "@jupyter-widgets/base",
      "model_module_version": "1.2.0",
      "model_name": "LayoutModel",
      "state": {
       "_model_module": "@jupyter-widgets/base",
       "_model_module_version": "1.2.0",
       "_model_name": "LayoutModel",
       "_view_count": null,
       "_view_module": "@jupyter-widgets/base",
       "_view_module_version": "1.2.0",
       "_view_name": "LayoutView",
       "align_content": null,
       "align_items": null,
       "align_self": null,
       "border": null,
       "bottom": null,
       "display": null,
       "flex": null,
       "flex_flow": null,
       "grid_area": null,
       "grid_auto_columns": null,
       "grid_auto_flow": null,
       "grid_auto_rows": null,
       "grid_column": null,
       "grid_gap": null,
       "grid_row": null,
       "grid_template_areas": null,
       "grid_template_columns": null,
       "grid_template_rows": null,
       "height": null,
       "justify_content": null,
       "justify_items": null,
       "left": null,
       "margin": null,
       "max_height": null,
       "max_width": null,
       "min_height": null,
       "min_width": null,
       "object_fit": null,
       "object_position": null,
       "order": null,
       "overflow": null,
       "overflow_x": null,
       "overflow_y": null,
       "padding": null,
       "right": null,
       "top": null,
       "visibility": null,
       "width": null
      }
     },
     "cbe4aa90b2be4de6b4994cf449d223b3": {
      "model_module": "@jupyter-widgets/base",
      "model_module_version": "1.2.0",
      "model_name": "LayoutModel",
      "state": {
       "_model_module": "@jupyter-widgets/base",
       "_model_module_version": "1.2.0",
       "_model_name": "LayoutModel",
       "_view_count": null,
       "_view_module": "@jupyter-widgets/base",
       "_view_module_version": "1.2.0",
       "_view_name": "LayoutView",
       "align_content": null,
       "align_items": null,
       "align_self": null,
       "border": null,
       "bottom": null,
       "display": null,
       "flex": null,
       "flex_flow": null,
       "grid_area": null,
       "grid_auto_columns": null,
       "grid_auto_flow": null,
       "grid_auto_rows": null,
       "grid_column": null,
       "grid_gap": null,
       "grid_row": null,
       "grid_template_areas": null,
       "grid_template_columns": null,
       "grid_template_rows": null,
       "height": null,
       "justify_content": null,
       "justify_items": null,
       "left": null,
       "margin": null,
       "max_height": null,
       "max_width": null,
       "min_height": null,
       "min_width": null,
       "object_fit": null,
       "object_position": null,
       "order": null,
       "overflow": null,
       "overflow_x": null,
       "overflow_y": null,
       "padding": null,
       "right": null,
       "top": null,
       "visibility": null,
       "width": null
      }
     },
     "e76639b6f0b44842b3a0939795fc6fb7": {
      "model_module": "@jupyter-widgets/controls",
      "model_module_version": "1.5.0",
      "model_name": "HTMLModel",
      "state": {
       "_dom_classes": [],
       "_model_module": "@jupyter-widgets/controls",
       "_model_module_version": "1.5.0",
       "_model_name": "HTMLModel",
       "_view_count": null,
       "_view_module": "@jupyter-widgets/controls",
       "_view_module_version": "1.5.0",
       "_view_name": "HTMLView",
       "description": "",
       "description_tooltip": null,
       "layout": "IPY_MODEL_ba34fed0ddaa44beb055c79de6bffe1f",
       "placeholder": "​",
       "style": "IPY_MODEL_8539e73ab5bc41b1bed85d03b73990d1",
       "value": " 14.0M/14.0M [00:00&lt;00:00, 109MB/s]"
      }
     },
     "f6eb348497b943f0878f31dd52dc7d84": {
      "model_module": "@jupyter-widgets/controls",
      "model_module_version": "1.5.0",
      "model_name": "HBoxModel",
      "state": {
       "_dom_classes": [],
       "_model_module": "@jupyter-widgets/controls",
       "_model_module_version": "1.5.0",
       "_model_name": "HBoxModel",
       "_view_count": null,
       "_view_module": "@jupyter-widgets/controls",
       "_view_module_version": "1.5.0",
       "_view_name": "HBoxView",
       "box_style": "",
       "children": [
        "IPY_MODEL_21976930584747c7abda381da3f53623",
        "IPY_MODEL_04eba8414dbf4d8a8f02b35b0961eee4",
        "IPY_MODEL_e76639b6f0b44842b3a0939795fc6fb7"
       ],
       "layout": "IPY_MODEL_cbe4aa90b2be4de6b4994cf449d223b3"
      }
     }
    },
    "version_major": 2,
    "version_minor": 0
   }
  }
 },
 "nbformat": 4,
 "nbformat_minor": 5
}
