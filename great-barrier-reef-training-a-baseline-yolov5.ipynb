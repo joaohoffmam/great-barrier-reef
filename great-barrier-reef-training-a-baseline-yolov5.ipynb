{
 "cells": [
  {
   "cell_type": "markdown",
   "id": "67d1bdc0",
   "metadata": {
    "papermill": {
     "duration": 0.010569,
     "end_time": "2022-01-27T02:44:19.986968",
     "exception": false,
     "start_time": "2022-01-27T02:44:19.976399",
     "status": "completed"
    },
    "tags": []
   },
   "source": [
    "# Cloning and installing YOLOv5"
   ]
  },
  {
   "cell_type": "code",
   "execution_count": 1,
   "id": "bee98e30",
   "metadata": {
    "execution": {
     "iopub.execute_input": "2022-01-27T02:44:20.015208Z",
     "iopub.status.busy": "2022-01-27T02:44:20.013115Z",
     "iopub.status.idle": "2022-01-27T02:44:23.302564Z",
     "shell.execute_reply": "2022-01-27T02:44:23.303116Z",
     "shell.execute_reply.started": "2022-01-27T02:19:19.608939Z"
    },
    "papermill": {
     "duration": 3.304665,
     "end_time": "2022-01-27T02:44:23.303582",
     "exception": false,
     "start_time": "2022-01-27T02:44:19.998917",
     "status": "completed"
    },
    "tags": []
   },
   "outputs": [
    {
     "name": "stdout",
     "output_type": "stream",
     "text": [
      "Cloning into 'yolov5'...\r\n",
      "remote: Enumerating objects: 10732, done.\u001b[K\r\n",
      "remote: Counting objects: 100% (10/10), done.\u001b[K\r\n",
      "remote: Compressing objects: 100% (9/9), done.\u001b[K\r\n",
      "remote: Total 10732 (delta 3), reused 6 (delta 1), pack-reused 10722\u001b[K\r\n",
      "Receiving objects: 100% (10732/10732), 10.89 MiB | 15.86 MiB/s, done.\r\n",
      "Resolving deltas: 100% (7408/7408), done.\r\n"
     ]
    }
   ],
   "source": [
    "!git clone https://github.com/ultralytics/yolov5"
   ]
  },
  {
   "cell_type": "code",
   "execution_count": 2,
   "id": "6c8f1045",
   "metadata": {
    "execution": {
     "iopub.execute_input": "2022-01-27T02:44:23.340203Z",
     "iopub.status.busy": "2022-01-27T02:44:23.337598Z",
     "iopub.status.idle": "2022-01-27T02:44:35.245000Z",
     "shell.execute_reply": "2022-01-27T02:44:35.244423Z",
     "shell.execute_reply.started": "2022-01-27T02:19:25.640356Z"
    },
    "papermill": {
     "duration": 11.925627,
     "end_time": "2022-01-27T02:44:35.245155",
     "exception": false,
     "start_time": "2022-01-27T02:44:23.319528",
     "status": "completed"
    },
    "tags": []
   },
   "outputs": [
    {
     "name": "stdout",
     "output_type": "stream",
     "text": [
      "Requirement already satisfied: matplotlib>=3.2.2 in /opt/conda/lib/python3.7/site-packages (from -r yolov5/requirements.txt (line 4)) (3.5.1)\r\n",
      "Requirement already satisfied: numpy>=1.18.5 in /opt/conda/lib/python3.7/site-packages (from -r yolov5/requirements.txt (line 5)) (1.20.3)\r\n",
      "Requirement already satisfied: opencv-python>=4.1.2 in /opt/conda/lib/python3.7/site-packages (from -r yolov5/requirements.txt (line 6)) (4.5.4.60)\r\n",
      "Requirement already satisfied: Pillow>=7.1.2 in /opt/conda/lib/python3.7/site-packages (from -r yolov5/requirements.txt (line 7)) (8.2.0)\r\n",
      "Requirement already satisfied: PyYAML>=5.3.1 in /opt/conda/lib/python3.7/site-packages (from -r yolov5/requirements.txt (line 8)) (6.0)\r\n",
      "Requirement already satisfied: requests>=2.23.0 in /opt/conda/lib/python3.7/site-packages (from -r yolov5/requirements.txt (line 9)) (2.26.0)\r\n",
      "Requirement already satisfied: scipy>=1.4.1 in /opt/conda/lib/python3.7/site-packages (from -r yolov5/requirements.txt (line 10)) (1.7.3)\r\n",
      "Requirement already satisfied: torch>=1.7.0 in /opt/conda/lib/python3.7/site-packages (from -r yolov5/requirements.txt (line 11)) (1.9.1)\r\n",
      "Requirement already satisfied: torchvision>=0.8.1 in /opt/conda/lib/python3.7/site-packages (from -r yolov5/requirements.txt (line 12)) (0.10.1)\r\n",
      "Requirement already satisfied: tqdm>=4.41.0 in /opt/conda/lib/python3.7/site-packages (from -r yolov5/requirements.txt (line 13)) (4.62.3)\r\n",
      "Requirement already satisfied: tensorboard>=2.4.1 in /opt/conda/lib/python3.7/site-packages (from -r yolov5/requirements.txt (line 16)) (2.6.0)\r\n",
      "Requirement already satisfied: pandas>=1.1.4 in /opt/conda/lib/python3.7/site-packages (from -r yolov5/requirements.txt (line 20)) (1.3.5)\r\n",
      "Requirement already satisfied: seaborn>=0.11.0 in /opt/conda/lib/python3.7/site-packages (from -r yolov5/requirements.txt (line 21)) (0.11.2)\r\n",
      "Collecting thop\r\n",
      "  Downloading thop-0.0.31.post2005241907-py3-none-any.whl (8.7 kB)\r\n",
      "Requirement already satisfied: pyparsing>=2.2.1 in /opt/conda/lib/python3.7/site-packages (from matplotlib>=3.2.2->-r yolov5/requirements.txt (line 4)) (3.0.6)\r\n",
      "Requirement already satisfied: cycler>=0.10 in /opt/conda/lib/python3.7/site-packages (from matplotlib>=3.2.2->-r yolov5/requirements.txt (line 4)) (0.11.0)\r\n",
      "Requirement already satisfied: packaging>=20.0 in /opt/conda/lib/python3.7/site-packages (from matplotlib>=3.2.2->-r yolov5/requirements.txt (line 4)) (21.3)\r\n",
      "Requirement already satisfied: python-dateutil>=2.7 in /opt/conda/lib/python3.7/site-packages (from matplotlib>=3.2.2->-r yolov5/requirements.txt (line 4)) (2.8.0)\r\n",
      "Requirement already satisfied: kiwisolver>=1.0.1 in /opt/conda/lib/python3.7/site-packages (from matplotlib>=3.2.2->-r yolov5/requirements.txt (line 4)) (1.3.2)\r\n",
      "Requirement already satisfied: fonttools>=4.22.0 in /opt/conda/lib/python3.7/site-packages (from matplotlib>=3.2.2->-r yolov5/requirements.txt (line 4)) (4.28.4)\r\n",
      "Requirement already satisfied: certifi>=2017.4.17 in /opt/conda/lib/python3.7/site-packages (from requests>=2.23.0->-r yolov5/requirements.txt (line 9)) (2021.10.8)\r\n",
      "Requirement already satisfied: charset-normalizer~=2.0.0 in /opt/conda/lib/python3.7/site-packages (from requests>=2.23.0->-r yolov5/requirements.txt (line 9)) (2.0.9)\r\n",
      "Requirement already satisfied: idna<4,>=2.5 in /opt/conda/lib/python3.7/site-packages (from requests>=2.23.0->-r yolov5/requirements.txt (line 9)) (3.1)\r\n",
      "Requirement already satisfied: urllib3<1.27,>=1.21.1 in /opt/conda/lib/python3.7/site-packages (from requests>=2.23.0->-r yolov5/requirements.txt (line 9)) (1.26.7)\r\n",
      "Requirement already satisfied: typing-extensions in /opt/conda/lib/python3.7/site-packages (from torch>=1.7.0->-r yolov5/requirements.txt (line 11)) (3.10.0.2)\r\n",
      "Requirement already satisfied: werkzeug>=0.11.15 in /opt/conda/lib/python3.7/site-packages (from tensorboard>=2.4.1->-r yolov5/requirements.txt (line 16)) (2.0.2)\r\n",
      "Requirement already satisfied: tensorboard-data-server<0.7.0,>=0.6.0 in /opt/conda/lib/python3.7/site-packages (from tensorboard>=2.4.1->-r yolov5/requirements.txt (line 16)) (0.6.1)\r\n",
      "Requirement already satisfied: google-auth-oauthlib<0.5,>=0.4.1 in /opt/conda/lib/python3.7/site-packages (from tensorboard>=2.4.1->-r yolov5/requirements.txt (line 16)) (0.4.6)\r\n",
      "Requirement already satisfied: setuptools>=41.0.0 in /opt/conda/lib/python3.7/site-packages (from tensorboard>=2.4.1->-r yolov5/requirements.txt (line 16)) (59.5.0)\r\n",
      "Requirement already satisfied: absl-py>=0.4 in /opt/conda/lib/python3.7/site-packages (from tensorboard>=2.4.1->-r yolov5/requirements.txt (line 16)) (0.15.0)\r\n",
      "Requirement already satisfied: markdown>=2.6.8 in /opt/conda/lib/python3.7/site-packages (from tensorboard>=2.4.1->-r yolov5/requirements.txt (line 16)) (3.3.6)\r\n",
      "Requirement already satisfied: google-auth<2,>=1.6.3 in /opt/conda/lib/python3.7/site-packages (from tensorboard>=2.4.1->-r yolov5/requirements.txt (line 16)) (1.35.0)\r\n",
      "Requirement already satisfied: protobuf>=3.6.0 in /opt/conda/lib/python3.7/site-packages (from tensorboard>=2.4.1->-r yolov5/requirements.txt (line 16)) (3.19.1)\r\n",
      "Requirement already satisfied: wheel>=0.26 in /opt/conda/lib/python3.7/site-packages (from tensorboard>=2.4.1->-r yolov5/requirements.txt (line 16)) (0.37.0)\r\n",
      "Requirement already satisfied: tensorboard-plugin-wit>=1.6.0 in /opt/conda/lib/python3.7/site-packages (from tensorboard>=2.4.1->-r yolov5/requirements.txt (line 16)) (1.8.0)\r\n",
      "Requirement already satisfied: grpcio>=1.24.3 in /opt/conda/lib/python3.7/site-packages (from tensorboard>=2.4.1->-r yolov5/requirements.txt (line 16)) (1.43.0)\r\n",
      "Requirement already satisfied: pytz>=2017.3 in /opt/conda/lib/python3.7/site-packages (from pandas>=1.1.4->-r yolov5/requirements.txt (line 20)) (2021.3)\r\n",
      "Requirement already satisfied: six in /opt/conda/lib/python3.7/site-packages (from absl-py>=0.4->tensorboard>=2.4.1->-r yolov5/requirements.txt (line 16)) (1.16.0)\r\n",
      "Requirement already satisfied: rsa<5,>=3.1.4 in /opt/conda/lib/python3.7/site-packages (from google-auth<2,>=1.6.3->tensorboard>=2.4.1->-r yolov5/requirements.txt (line 16)) (4.8)\r\n",
      "Requirement already satisfied: cachetools<5.0,>=2.0.0 in /opt/conda/lib/python3.7/site-packages (from google-auth<2,>=1.6.3->tensorboard>=2.4.1->-r yolov5/requirements.txt (line 16)) (4.2.4)\r\n",
      "Requirement already satisfied: pyasn1-modules>=0.2.1 in /opt/conda/lib/python3.7/site-packages (from google-auth<2,>=1.6.3->tensorboard>=2.4.1->-r yolov5/requirements.txt (line 16)) (0.2.7)\r\n",
      "Requirement already satisfied: requests-oauthlib>=0.7.0 in /opt/conda/lib/python3.7/site-packages (from google-auth-oauthlib<0.5,>=0.4.1->tensorboard>=2.4.1->-r yolov5/requirements.txt (line 16)) (1.3.0)\r\n",
      "Requirement already satisfied: importlib-metadata>=4.4 in /opt/conda/lib/python3.7/site-packages (from markdown>=2.6.8->tensorboard>=2.4.1->-r yolov5/requirements.txt (line 16)) (4.10.1)\r\n",
      "Requirement already satisfied: zipp>=0.5 in /opt/conda/lib/python3.7/site-packages (from importlib-metadata>=4.4->markdown>=2.6.8->tensorboard>=2.4.1->-r yolov5/requirements.txt (line 16)) (3.6.0)\r\n",
      "Requirement already satisfied: pyasn1<0.5.0,>=0.4.6 in /opt/conda/lib/python3.7/site-packages (from pyasn1-modules>=0.2.1->google-auth<2,>=1.6.3->tensorboard>=2.4.1->-r yolov5/requirements.txt (line 16)) (0.4.8)\r\n",
      "Requirement already satisfied: oauthlib>=3.0.0 in /opt/conda/lib/python3.7/site-packages (from requests-oauthlib>=0.7.0->google-auth-oauthlib<0.5,>=0.4.1->tensorboard>=2.4.1->-r yolov5/requirements.txt (line 16)) (3.1.1)\r\n",
      "Installing collected packages: thop\r\n",
      "Successfully installed thop-0.0.31.post2005241907\r\n",
      "\u001b[33mWARNING: Running pip as the 'root' user can result in broken permissions and conflicting behaviour with the system package manager. It is recommended to use a virtual environment instead: https://pip.pypa.io/warnings/venv\u001b[0m\r\n"
     ]
    }
   ],
   "source": [
    "!pip install -r yolov5/requirements.txt"
   ]
  },
  {
   "cell_type": "markdown",
   "id": "5d9f8688",
   "metadata": {
    "papermill": {
     "duration": 0.018923,
     "end_time": "2022-01-27T02:44:35.283857",
     "exception": false,
     "start_time": "2022-01-27T02:44:35.264934",
     "status": "completed"
    },
    "tags": []
   },
   "source": [
    "# Write YAML file with directories"
   ]
  },
  {
   "cell_type": "code",
   "execution_count": 3,
   "id": "34609b35",
   "metadata": {
    "execution": {
     "iopub.execute_input": "2022-01-27T02:44:35.329023Z",
     "iopub.status.busy": "2022-01-27T02:44:35.328272Z",
     "iopub.status.idle": "2022-01-27T02:44:35.331924Z",
     "shell.execute_reply": "2022-01-27T02:44:35.332846Z",
     "shell.execute_reply.started": "2022-01-27T02:19:40.591453Z"
    },
    "papermill": {
     "duration": 0.030341,
     "end_time": "2022-01-27T02:44:35.333046",
     "exception": false,
     "start_time": "2022-01-27T02:44:35.302705",
     "status": "completed"
    },
    "tags": []
   },
   "outputs": [
    {
     "name": "stdout",
     "output_type": "stream",
     "text": [
      "Writing ./yolov5/data/GBR.yaml\n"
     ]
    }
   ],
   "source": [
    "%%writefile ./yolov5/data/GBR.yaml\n",
    "\n",
    "path: /kaggle/working/datasets/train_images\n",
    "train: video_0\n",
    "val: video_1\n",
    "test:\n",
    "\n",
    "nc: 1\n",
    "names: [ 'starfish' ]"
   ]
  },
  {
   "cell_type": "markdown",
   "id": "0a761fa0",
   "metadata": {
    "papermill": {
     "duration": 0.018863,
     "end_time": "2022-01-27T02:44:35.372277",
     "exception": false,
     "start_time": "2022-01-27T02:44:35.353414",
     "status": "completed"
    },
    "tags": []
   },
   "source": [
    "# Copy images to working directory"
   ]
  },
  {
   "cell_type": "code",
   "execution_count": 4,
   "id": "41b20206",
   "metadata": {
    "execution": {
     "iopub.execute_input": "2022-01-27T02:44:35.423928Z",
     "iopub.status.busy": "2022-01-27T02:44:35.416806Z",
     "iopub.status.idle": "2022-01-27T02:49:16.725432Z",
     "shell.execute_reply": "2022-01-27T02:49:16.723793Z",
     "shell.execute_reply.started": "2022-01-27T02:19:45.425923Z"
    },
    "papermill": {
     "duration": 281.33422,
     "end_time": "2022-01-27T02:49:16.725595",
     "exception": false,
     "start_time": "2022-01-27T02:44:35.391375",
     "status": "completed"
    },
    "tags": []
   },
   "outputs": [],
   "source": [
    "!mkdir datasets\n",
    "!cp -r ../input/tensorflow-great-barrier-reef/train_images ./datasets"
   ]
  },
  {
   "cell_type": "markdown",
   "id": "df8e7ce5",
   "metadata": {
    "papermill": {
     "duration": 0.529162,
     "end_time": "2022-01-27T02:49:17.276633",
     "exception": false,
     "start_time": "2022-01-27T02:49:16.747471",
     "status": "completed"
    },
    "tags": []
   },
   "source": [
    "# Prepare labels"
   ]
  },
  {
   "cell_type": "code",
   "execution_count": 5,
   "id": "a50fb215",
   "metadata": {
    "execution": {
     "iopub.execute_input": "2022-01-27T02:49:17.403962Z",
     "iopub.status.busy": "2022-01-27T02:49:17.396090Z",
     "iopub.status.idle": "2022-01-27T02:49:24.644113Z",
     "shell.execute_reply": "2022-01-27T02:49:24.643403Z",
     "shell.execute_reply.started": "2022-01-27T02:24:51.613225Z"
    },
    "papermill": {
     "duration": 7.307817,
     "end_time": "2022-01-27T02:49:24.644267",
     "exception": false,
     "start_time": "2022-01-27T02:49:17.336450",
     "status": "completed"
    },
    "tags": []
   },
   "outputs": [],
   "source": [
    "import pandas as pd\n",
    "import ast\n",
    "\n",
    "df = pd.read_csv('../input/tensorflow-great-barrier-reef/train.csv')\n",
    "df = df[df['annotations'] != '[]']\n",
    "\n",
    "for index, row in df.iterrows():\n",
    "    label_list = []\n",
    "    \n",
    "    for d in ast.literal_eval(row['annotations']):\n",
    "        label_list.append([0, (d.get('x') + (d.get('width') / 2)) / 1280, \n",
    "                           (d.get('y') + (d.get('height') / 2)) / 720, \n",
    "                           d.get('width') / 1280, d.get('height') / 720])\n",
    "    \n",
    "    label_df = pd.DataFrame(label_list)\n",
    "    label_df.to_csv('./datasets/train_images/video_' + str(row['video_id']) + '/' + str(row['image_id'][2:]) + '.txt', \n",
    "                    header = False, index = False, sep = ' ')"
   ]
  },
  {
   "cell_type": "markdown",
   "id": "87aff4ed",
   "metadata": {
    "papermill": {
     "duration": 0.020814,
     "end_time": "2022-01-27T02:49:24.686494",
     "exception": false,
     "start_time": "2022-01-27T02:49:24.665680",
     "status": "completed"
    },
    "tags": []
   },
   "source": [
    "# Train model"
   ]
  },
  {
   "cell_type": "code",
   "execution_count": 6,
   "id": "3db80703",
   "metadata": {
    "execution": {
     "iopub.execute_input": "2022-01-27T02:49:24.737178Z",
     "iopub.status.busy": "2022-01-27T02:49:24.736172Z",
     "iopub.status.idle": "2022-01-27T03:08:54.358274Z",
     "shell.execute_reply": "2022-01-27T03:08:54.357040Z",
     "shell.execute_reply.started": "2022-01-27T02:25:17.509102Z"
    },
    "papermill": {
     "duration": 1169.649626,
     "end_time": "2022-01-27T03:08:54.358725",
     "exception": false,
     "start_time": "2022-01-27T02:49:24.709099",
     "status": "completed"
    },
    "tags": []
   },
   "outputs": [
    {
     "name": "stdout",
     "output_type": "stream",
     "text": [
      "Downloading https://ultralytics.com/assets/Arial.ttf to /root/.config/Ultralytics/Arial.ttf...\r\n",
      "\u001b[34m\u001b[1mwandb\u001b[0m: (1) Create a W&B account\r\n",
      "\u001b[34m\u001b[1mwandb\u001b[0m: (2) Use an existing W&B account\r\n",
      "\u001b[34m\u001b[1mwandb\u001b[0m: (3) Don't visualize my results\r\n",
      "\u001b[34m\u001b[1mwandb\u001b[0m: Enter your choice: (30 second timeout) \r\n",
      "\u001b[34m\u001b[1mwandb\u001b[0m: W&B disabled due to login timeout.\r\n",
      "\u001b[34m\u001b[1mtrain: \u001b[0mweights=yolov5n.pt, cfg=, data=GBR.yaml, hyp=yolov5/data/hyps/hyp.scratch.yaml, epochs=1, batch_size=16, imgsz=640, rect=False, resume=False, nosave=False, noval=False, noautoanchor=False, evolve=None, bucket=, cache=None, image_weights=False, device=, multi_scale=False, single_cls=False, optimizer=SGD, sync_bn=False, workers=8, project=yolov5/runs/train, name=exp, exist_ok=False, quad=False, linear_lr=False, label_smoothing=0.0, patience=100, freeze=[0], save_period=-1, local_rank=-1, entity=None, upload_dataset=False, bbox_interval=-1, artifact_alias=latest\r\n",
      "\u001b[34m\u001b[1mgithub: \u001b[0mup to date with https://github.com/ultralytics/yolov5 ✅\r\n",
      "YOLOv5 🚀 v6.0-216-g856d4e5 torch 1.9.1 CUDA:0 (Tesla P100-PCIE-16GB, 16281MiB)\r\n",
      "\r\n",
      "\u001b[34m\u001b[1mhyperparameters: \u001b[0mlr0=0.01, lrf=0.1, momentum=0.937, weight_decay=0.0005, warmup_epochs=3.0, warmup_momentum=0.8, warmup_bias_lr=0.1, box=0.05, cls=0.5, cls_pw=1.0, obj=1.0, obj_pw=1.0, iou_t=0.2, anchor_t=4.0, fl_gamma=0.0, hsv_h=0.015, hsv_s=0.7, hsv_v=0.4, degrees=0.0, translate=0.1, scale=0.5, shear=0.0, perspective=0.0, flipud=0.0, fliplr=0.5, mosaic=1.0, mixup=0.0, copy_paste=0.0\r\n",
      "\u001b[34m\u001b[1mWeights & Biases: \u001b[0mrun 'pip install wandb' to automatically track and visualize YOLOv5 🚀 runs (RECOMMENDED)\r\n",
      "\u001b[34m\u001b[1mTensorBoard: \u001b[0mStart with 'tensorboard --logdir yolov5/runs/train', view at http://localhost:6006/\r\n",
      "Downloading https://github.com/ultralytics/yolov5/releases/download/v6.0/yolov5n.pt to yolov5n.pt...\r\n",
      "100%|██████████████████████████████████████| 3.77M/3.77M [00:00<00:00, 4.27MB/s]\r\n",
      "\r\n",
      "Overriding model.yaml nc=80 with nc=1\r\n",
      "\r\n",
      "                 from  n    params  module                                  arguments                     \r\n",
      "  0                -1  1      1760  models.common.Conv                      [3, 16, 6, 2, 2]              \r\n",
      "  1                -1  1      4672  models.common.Conv                      [16, 32, 3, 2]                \r\n",
      "  2                -1  1      4800  models.common.C3                        [32, 32, 1]                   \r\n",
      "  3                -1  1     18560  models.common.Conv                      [32, 64, 3, 2]                \r\n",
      "  4                -1  2     29184  models.common.C3                        [64, 64, 2]                   \r\n",
      "  5                -1  1     73984  models.common.Conv                      [64, 128, 3, 2]               \r\n",
      "  6                -1  3    156928  models.common.C3                        [128, 128, 3]                 \r\n",
      "  7                -1  1    295424  models.common.Conv                      [128, 256, 3, 2]              \r\n",
      "  8                -1  1    296448  models.common.C3                        [256, 256, 1]                 \r\n",
      "  9                -1  1    164608  models.common.SPPF                      [256, 256, 5]                 \r\n",
      " 10                -1  1     33024  models.common.Conv                      [256, 128, 1, 1]              \r\n",
      " 11                -1  1         0  torch.nn.modules.upsampling.Upsample    [None, 2, 'nearest']          \r\n",
      " 12           [-1, 6]  1         0  models.common.Concat                    [1]                           \r\n",
      " 13                -1  1     90880  models.common.C3                        [256, 128, 1, False]          \r\n",
      " 14                -1  1      8320  models.common.Conv                      [128, 64, 1, 1]               \r\n",
      " 15                -1  1         0  torch.nn.modules.upsampling.Upsample    [None, 2, 'nearest']          \r\n",
      " 16           [-1, 4]  1         0  models.common.Concat                    [1]                           \r\n",
      " 17                -1  1     22912  models.common.C3                        [128, 64, 1, False]           \r\n",
      " 18                -1  1     36992  models.common.Conv                      [64, 64, 3, 2]                \r\n",
      " 19          [-1, 14]  1         0  models.common.Concat                    [1]                           \r\n",
      " 20                -1  1     74496  models.common.C3                        [128, 128, 1, False]          \r\n",
      " 21                -1  1    147712  models.common.Conv                      [128, 128, 3, 2]              \r\n",
      " 22          [-1, 10]  1         0  models.common.Concat                    [1]                           \r\n",
      " 23                -1  1    296448  models.common.C3                        [256, 256, 1, False]          \r\n",
      " 24      [17, 20, 23]  1      8118  models.yolo.Detect                      [1, [[10, 13, 16, 30, 33, 23], [30, 61, 62, 45, 59, 119], [116, 90, 156, 198, 373, 326]], [64, 128, 256]]\r\n",
      "Model Summary: 270 layers, 1765270 parameters, 1765270 gradients, 4.2 GFLOPs\r\n",
      "\r\n",
      "Transferred 343/349 items from yolov5n.pt\r\n",
      "Scaled weight_decay = 0.0005\r\n",
      "\u001b[34m\u001b[1moptimizer:\u001b[0m SGD with parameter groups 57 weight (no decay), 60 weight, 60 bias\r\n",
      "\u001b[34m\u001b[1malbumentations: \u001b[0mBlur(always_apply=False, p=0.01, blur_limit=(3, 7)), MedianBlur(always_apply=False, p=0.01, blur_limit=(3, 7)), ToGray(always_apply=False, p=0.01), CLAHE(always_apply=False, p=0.01, clip_limit=(1, 4.0), tile_grid_size=(8, 8))\r\n",
      "\u001b[34m\u001b[1mtrain: \u001b[0mScanning '/kaggle/working/datasets/train_images/video_0' images and label\u001b[0m\r\n",
      "\u001b[34m\u001b[1mtrain: \u001b[0mWARNING: /kaggle/working/datasets/train_images/video_0/9470.jpg: ignoring corrupt image/label: non-normalized or out of bounds coordinates [     1.0021]\r\n",
      "\u001b[34m\u001b[1mtrain: \u001b[0mNew cache created: /kaggle/working/datasets/train_images/video_0.cache\r\n",
      "\u001b[34m\u001b[1mval: \u001b[0mScanning '/kaggle/working/datasets/train_images/video_1' images and labels.\u001b[0m\r\n",
      "\u001b[34m\u001b[1mval: \u001b[0mNew cache created: /kaggle/working/datasets/train_images/video_1.cache\r\n",
      "Plotting labels to yolov5/runs/train/exp/labels.jpg... \r\n",
      "\r\n",
      "\u001b[34m\u001b[1mAutoAnchor: \u001b[0m4.90 anchors/target, 1.000 Best Possible Recall (BPR). Current anchors are a good fit to dataset ✅\r\n",
      "Image sizes 640 train, 640 val\r\n",
      "Using 2 dataloader workers\r\n",
      "Logging results to \u001b[1myolov5/runs/train/exp\u001b[0m\r\n",
      "Starting training for 1 epochs...\r\n",
      "\r\n",
      "     Epoch   gpu_mem       box       obj       cls    labels  img_size\r\n",
      "       0/0     1.91G    0.1076  0.009043         0         0       640: 100%|███\r\n",
      "               Class     Images     Labels          P          R     mAP@.5 mAP@\r\n",
      "                 all       8232       6384   2.43e-05    0.00768   1.24e-05   1.98e-06\r\n",
      "\r\n",
      "1 epochs completed in 0.237 hours.\r\n",
      "Optimizer stripped from yolov5/runs/train/exp/weights/last.pt, 3.8MB\r\n",
      "Optimizer stripped from yolov5/runs/train/exp/weights/best.pt, 3.8MB\r\n",
      "\r\n",
      "Validating yolov5/runs/train/exp/weights/best.pt...\r\n",
      "Fusing layers... \r\n",
      "Model Summary: 213 layers, 1760518 parameters, 0 gradients, 4.2 GFLOPs\r\n",
      "               Class     Images     Labels          P          R     mAP@.5 mAP@\r\n",
      "                 all       8232       6384   2.38e-05    0.00752   1.22e-05   1.91e-06\r\n",
      "Results saved to \u001b[1myolov5/runs/train/exp\u001b[0m\r\n",
      "Exception ignored in: <function _MultiProcessingDataLoaderIter.__del__ at 0x7f0c1a343680>\r\n",
      "Traceback (most recent call last):\r\n",
      "  File \"/opt/conda/lib/python3.7/site-packages/torch/utils/data/dataloader.py\", line 1328, in __del__\r\n",
      "  File \"/opt/conda/lib/python3.7/site-packages/torch/utils/data/dataloader.py\", line 1262, in _shutdown_workers\r\n",
      "AttributeError: 'NoneType' object has no attribute 'python_exit_status'\r\n",
      "Exception ignored in: <function _MultiProcessingDataLoaderIter.__del__ at 0x7f0c1a343680>\r\n",
      "Traceback (most recent call last):\r\n",
      "  File \"/opt/conda/lib/python3.7/site-packages/torch/utils/data/dataloader.py\", line 1328, in __del__\r\n",
      "  File \"/opt/conda/lib/python3.7/site-packages/torch/utils/data/dataloader.py\", line 1262, in _shutdown_workers\r\n",
      "AttributeError: 'NoneType' object has no attribute 'python_exit_status'\r\n"
     ]
    }
   ],
   "source": [
    "!python ./yolov5/train.py --img 640 --batch 16 --epochs 1 --data GBR.yaml --weights yolov5n.pt"
   ]
  }
 ],
 "metadata": {
  "kernelspec": {
   "display_name": "Python 3",
   "language": "python",
   "name": "python3"
  },
  "language_info": {
   "codemirror_mode": {
    "name": "ipython",
    "version": 3
   },
   "file_extension": ".py",
   "mimetype": "text/x-python",
   "name": "python",
   "nbconvert_exporter": "python",
   "pygments_lexer": "ipython3",
   "version": "3.7.12"
  },
  "papermill": {
   "default_parameters": {},
   "duration": 1485.477843,
   "end_time": "2022-01-27T03:08:55.674460",
   "environment_variables": {},
   "exception": null,
   "input_path": "__notebook__.ipynb",
   "output_path": "__notebook__.ipynb",
   "parameters": {},
   "start_time": "2022-01-27T02:44:10.196617",
   "version": "2.3.3"
  }
 },
 "nbformat": 4,
 "nbformat_minor": 5
}
